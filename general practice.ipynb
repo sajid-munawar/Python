{
 "cells": [
  {
   "cell_type": "code",
   "execution_count": 1,
   "metadata": {},
   "outputs": [
    {
     "data": {
      "text/plain": [
       "tuple"
      ]
     },
     "execution_count": 1,
     "metadata": {},
     "output_type": "execute_result"
    }
   ],
   "source": [
    "tup=1,2,3\n",
    "type(tup)"
   ]
  },
  {
   "cell_type": "code",
   "execution_count": 2,
   "metadata": {},
   "outputs": [
    {
     "data": {
      "text/plain": [
       "(1, 2, 3)"
      ]
     },
     "execution_count": 2,
     "metadata": {},
     "output_type": "execute_result"
    }
   ],
   "source": [
    "tup"
   ]
  },
  {
   "cell_type": "code",
   "execution_count": 8,
   "metadata": {},
   "outputs": [
    {
     "data": {
      "text/plain": [
       "((1, 2, 3, 1, 2), (4, 5, 6))"
      ]
     },
     "execution_count": 8,
     "metadata": {},
     "output_type": "execute_result"
    }
   ],
   "source": [
    "# creating a tuple of tuples:\n",
    "tup=(1,2,3,1,2),(4,5,6)\n",
    "tup"
   ]
  },
  {
   "cell_type": "code",
   "execution_count": 19,
   "metadata": {},
   "outputs": [
    {
     "data": {
      "text/plain": [
       "2"
      ]
     },
     "execution_count": 19,
     "metadata": {},
     "output_type": "execute_result"
    }
   ],
   "source": [
    "tup[0].count(2)"
   ]
  },
  {
   "cell_type": "code",
   "execution_count": 12,
   "metadata": {},
   "outputs": [],
   "source": [
    "tuple.count??"
   ]
  },
  {
   "cell_type": "code",
   "execution_count": 16,
   "metadata": {},
   "outputs": [
    {
     "name": "stdout",
     "output_type": "stream",
     "text": [
      "(2, 4, 6, 8, 10)\n",
      "Occurences: 0\n"
     ]
    }
   ],
   "source": [
    "# Python tuple count() Method  \n",
    "# Creating a dictionary  \n",
    "data = (2,4,6,8,10) # Tuple of even numbers  \n",
    "print(data)  \n",
    "# Calling Method  \n",
    "count = data.count(12)  \n",
    "print(\"Occurences:\",count)"
   ]
  },
  {
   "cell_type": "code",
   "execution_count": 17,
   "metadata": {},
   "outputs": [
    {
     "name": "stdout",
     "output_type": "stream",
     "text": [
      "(2, 4, 6, 8, 10)\n",
      "Occurences: 1\n",
      "(2, 4, 6, 8, 10, 2)\n",
      "Occurences: 2\n"
     ]
    }
   ],
   "source": [
    "# Python tuple count() Method  \n",
    "# Creating a dictionary  \n",
    "data = (2,4,6,8,10) # Tuple of even numbers  \n",
    "print(data)  \n",
    "# Calling Method  \n",
    "count = data.count(2)  \n",
    "print(\"Occurences:\",count)  \n",
    "data = (2,4,6,8,10,2)  \n",
    "print(data)  \n",
    "count = data.count(2)  \n",
    "print(\"Occurences:\",count)  "
   ]
  },
  {
   "cell_type": "markdown",
   "metadata": {},
   "source": [
    "# Prime num"
   ]
  },
  {
   "cell_type": "code",
   "execution_count": null,
   "metadata": {},
   "outputs": [],
   "source": [
    "x=[0, 1, 2, 3, 4, 5, 6, 7, 8, 9]\n",
    "for num in x:\n",
    "   # all prime numbers are greater than 1\n",
    "   if num > 1:\n",
    "        for i in range(2, num):\n",
    "            if (num % i) == 0:\n",
    "                break\n",
    "        else:\n",
    "            print(num)"
   ]
  },
  {
   "cell_type": "code",
   "execution_count": 57,
   "metadata": {},
   "outputs": [
    {
     "name": "stdout",
     "output_type": "stream",
     "text": [
      "3 Prime num\n",
      "5 Prime num\n",
      "5 Prime num\n",
      "5 Prime num\n",
      "7 Prime num\n",
      "7 Prime num\n",
      "7 Prime num\n",
      "7 Prime num\n",
      "7 Prime num\n",
      "9 Prime num\n"
     ]
    }
   ],
   "source": [
    "# a=np.arange(10)\n",
    "x=[0, 1, 2, 3, 4, 5, 6, 7, 8, 9]\n",
    "for num in x:\n",
    "    if num>1:\n",
    "        for i in range(2,num):\n",
    "            if num%i==0:\n",
    "#                 print(\"Not prime num\")\n",
    "                break\n",
    "            else:\n",
    "                print(num,\"Prime num\")\n",
    "#             break"
   ]
  },
  {
   "cell_type": "code",
   "execution_count": 59,
   "metadata": {},
   "outputs": [
    {
     "name": "stdout",
     "output_type": "stream",
     "text": [
      "2 Prime num\n",
      "3 Prime num\n",
      "5 Prime num\n",
      "7 Prime num\n"
     ]
    }
   ],
   "source": [
    "# a=np.arange(10)\n",
    "x=[0, 1, 2, 3, 4, 5, 6, 7, 8, 9]\n",
    "for num in x:\n",
    "    if num>1:\n",
    "        for i in range(2,num):\n",
    "            if num%i==0:\n",
    "#             print(\"Not prime num\")\n",
    "              break\n",
    "        else:\n",
    "            print(num,\"Prime num\")\n",
    "#             break"
   ]
  },
  {
   "cell_type": "code",
   "execution_count": 22,
   "metadata": {},
   "outputs": [
    {
     "name": "stdout",
     "output_type": "stream",
     "text": [
      "num 66\n",
      "Not prime num\n"
     ]
    }
   ],
   "source": [
    "# a=np.arange(10)\n",
    "a=int(input(\"num \"))\n",
    "for i in range(2,a):\n",
    "    if a%i==0:\n",
    "        print(\"Not prime num\")\n",
    "        break\n",
    "    else:\n",
    "        print(\"Prime num\")\n",
    "        break"
   ]
  },
  {
   "cell_type": "code",
   "execution_count": 38,
   "metadata": {},
   "outputs": [
    {
     "name": "stdout",
     "output_type": "stream",
     "text": [
      "Prime numbers between 900 and 1000 are:\n",
      "907\n",
      "911\n",
      "919\n",
      "929\n",
      "937\n",
      "941\n",
      "947\n",
      "953\n",
      "967\n",
      "971\n",
      "977\n",
      "983\n",
      "991\n",
      "997\n"
     ]
    }
   ],
   "source": [
    "# Python program to display all the prime numbers within an interval\n",
    "\n",
    "lower = 900\n",
    "upper = 1000\n",
    "\n",
    "print(\"Prime numbers between\", lower, \"and\", upper, \"are:\")\n",
    "\n",
    "for num in range(lower, upper + 1):\n",
    "   # all prime numbers are greater than 1\n",
    "   if num > 1:\n",
    "        for i in range(2, num):\n",
    "            if (num % i) == 0:\n",
    "                break\n",
    "        else:\n",
    "            print(num)"
   ]
  },
  {
   "cell_type": "code",
   "execution_count": 41,
   "metadata": {},
   "outputs": [
    {
     "name": "stdout",
     "output_type": "stream",
     "text": [
      "2\n",
      "3\n",
      "5\n",
      "7\n"
     ]
    }
   ],
   "source": [
    "x=[0, 1, 2, 3, 4, 5, 6, 7, 8, 9]\n",
    "for num in x:\n",
    "   # all prime numbers are greater than 1\n",
    "   if num > 1:\n",
    "        for i in range(2, num):\n",
    "            if (num % i) == 0:\n",
    "                break\n",
    "        else:\n",
    "            print(num)"
   ]
  },
  {
   "cell_type": "code",
   "execution_count": null,
   "metadata": {},
   "outputs": [],
   "source": []
  }
 ],
 "metadata": {
  "kernelspec": {
   "display_name": "Python 3",
   "language": "python",
   "name": "python3"
  },
  "language_info": {
   "codemirror_mode": {
    "name": "ipython",
    "version": 3
   },
   "file_extension": ".py",
   "mimetype": "text/x-python",
   "name": "python",
   "nbconvert_exporter": "python",
   "pygments_lexer": "ipython3",
   "version": "3.8.5"
  }
 },
 "nbformat": 4,
 "nbformat_minor": 4
}
