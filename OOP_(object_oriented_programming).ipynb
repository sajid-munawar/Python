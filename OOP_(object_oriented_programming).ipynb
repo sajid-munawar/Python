{
  "nbformat": 4,
  "nbformat_minor": 0,
  "metadata": {
    "colab": {
      "name": "OOP (object oriented programming).ipynb",
      "provenance": [],
      "authorship_tag": "ABX9TyM3YtN0I8OnLjIJSZ2X0ZIZ",
      "include_colab_link": true
    },
    "kernelspec": {
      "name": "python3",
      "display_name": "Python 3"
    },
    "language_info": {
      "name": "python"
    }
  },
  "cells": [
    {
      "cell_type": "markdown",
      "metadata": {
        "id": "view-in-github",
        "colab_type": "text"
      },
      "source": [
        "<a href=\"https://colab.research.google.com/github/sajid-munawar/Python/blob/master/OOP_(object_oriented_programming).ipynb\" target=\"_parent\"><img src=\"https://colab.research.google.com/assets/colab-badge.svg\" alt=\"Open In Colab\"/></a>"
      ]
    },
    {
      "cell_type": "markdown",
      "source": [
        "We define a class \n",
        "\n",
        "every class object has two things\n",
        "\n",
        "\n",
        "1.   Attributes(Variables)\n",
        "2.   Behaviors(functions)\n",
        "\n"
      ],
      "metadata": {
        "id": "YxVehfVnyzmN"
      }
    },
    {
      "cell_type": "code",
      "execution_count": 48,
      "metadata": {
        "id": "-EqgX8T8xcJL"
      },
      "outputs": [],
      "source": [
        "class Car():\n",
        "  def __init__(self,make,model,year):\n",
        "    self.make=make\n",
        "    self.model=model\n",
        "    self.year=year\n",
        "\n",
        "  def describeCar(self):\n",
        "    print(f'The {self.make} {self.model} is built in {self.year}')"
      ]
    },
    {
      "cell_type": "code",
      "source": [
        "car1=Car('Honda','Civic',2021)"
      ],
      "metadata": {
        "id": "kDxMIYp8yGwv"
      },
      "execution_count": 49,
      "outputs": []
    },
    {
      "cell_type": "code",
      "source": [
        "car1.make"
      ],
      "metadata": {
        "colab": {
          "base_uri": "https://localhost:8080/",
          "height": 35
        },
        "id": "amj9ZU8oySdy",
        "outputId": "47b8e6cc-b72b-4be0-bcf6-62a5e251ba66"
      },
      "execution_count": 50,
      "outputs": [
        {
          "output_type": "execute_result",
          "data": {
            "application/vnd.google.colaboratory.intrinsic+json": {
              "type": "string"
            },
            "text/plain": [
              "'Honda'"
            ]
          },
          "metadata": {},
          "execution_count": 50
        }
      ]
    },
    {
      "cell_type": "code",
      "source": [
        "car1.describeCar()"
      ],
      "metadata": {
        "colab": {
          "base_uri": "https://localhost:8080/"
        },
        "id": "F_DGOypyyUkm",
        "outputId": "7b7075e3-1424-462f-d6cd-c60c6c883a9d"
      },
      "execution_count": 51,
      "outputs": [
        {
          "output_type": "stream",
          "name": "stdout",
          "text": [
            "The Honda Civic is built in 2021\n"
          ]
        }
      ]
    },
    {
      "cell_type": "code",
      "source": [
        "car2=Car('Suzuki','Cultus',2015)"
      ],
      "metadata": {
        "id": "FAY9V68EyXv2"
      },
      "execution_count": 52,
      "outputs": []
    },
    {
      "cell_type": "code",
      "source": [
        "car2.make"
      ],
      "metadata": {
        "colab": {
          "base_uri": "https://localhost:8080/",
          "height": 35
        },
        "id": "3I9lFNsPyj6K",
        "outputId": "13d70916-d145-49c8-c8b9-183395b8e5a1"
      },
      "execution_count": 53,
      "outputs": [
        {
          "output_type": "execute_result",
          "data": {
            "application/vnd.google.colaboratory.intrinsic+json": {
              "type": "string"
            },
            "text/plain": [
              "'Suzuki'"
            ]
          },
          "metadata": {},
          "execution_count": 53
        }
      ]
    },
    {
      "cell_type": "code",
      "source": [
        "# Direct Hit\n",
        "car2.model='Mehran'"
      ],
      "metadata": {
        "id": "u_wwCTwuylN2"
      },
      "execution_count": 54,
      "outputs": []
    },
    {
      "cell_type": "code",
      "source": [
        "car2.model"
      ],
      "metadata": {
        "colab": {
          "base_uri": "https://localhost:8080/",
          "height": 35
        },
        "id": "jVEXGjW6yq2B",
        "outputId": "abc00434-1216-4e28-9cd8-0561b247085c"
      },
      "execution_count": 55,
      "outputs": [
        {
          "output_type": "execute_result",
          "data": {
            "application/vnd.google.colaboratory.intrinsic+json": {
              "type": "string"
            },
            "text/plain": [
              "'Mehran'"
            ]
          },
          "metadata": {},
          "execution_count": 55
        }
      ]
    },
    {
      "cell_type": "markdown",
      "source": [
        "we will not directly modified attributes/varibales of an object of a class instead we will define funtions to perform these actions"
      ],
      "metadata": {
        "id": "mxv65aLGyr4h"
      }
    },
    {
      "cell_type": "markdown",
      "source": [
        "we sey them \n",
        "\n",
        "\n",
        "1.   get function\n",
        "2.   set function\n",
        "\n",
        "\n",
        "\n"
      ],
      "metadata": {
        "id": "w67pV2db0Ncx"
      }
    },
    {
      "cell_type": "code",
      "source": [
        "class Car():\n",
        "  def __init__(self,make,model,year):\n",
        "    self.make=make\n",
        "    self.model=model\n",
        "    self.year=year\n",
        "\n",
        "  def describeCar(self):\n",
        "    print(f'The {self.make} {self.model} is built in {self.year}')\n",
        "  def setYear(self,newYear):\n",
        "    self.year=newYear"
      ],
      "metadata": {
        "id": "spRd3uoq0bLA"
      },
      "execution_count": 57,
      "outputs": []
    },
    {
      "cell_type": "code",
      "source": [
        "car3=Car('Honda','Civic',2021)"
      ],
      "metadata": {
        "id": "byLluvX_2LUr"
      },
      "execution_count": 58,
      "outputs": []
    },
    {
      "cell_type": "code",
      "source": [
        "car3.year"
      ],
      "metadata": {
        "colab": {
          "base_uri": "https://localhost:8080/"
        },
        "id": "KyK7SPZd3DJI",
        "outputId": "4cc9154e-ca3b-4b87-b59d-4987f76a6931"
      },
      "execution_count": 59,
      "outputs": [
        {
          "output_type": "execute_result",
          "data": {
            "text/plain": [
              "2021"
            ]
          },
          "metadata": {},
          "execution_count": 59
        }
      ]
    },
    {
      "cell_type": "code",
      "source": [
        "car3.setYear(2022)"
      ],
      "metadata": {
        "id": "NZKC2IYw3F77"
      },
      "execution_count": 60,
      "outputs": []
    },
    {
      "cell_type": "code",
      "source": [
        "car3.year"
      ],
      "metadata": {
        "colab": {
          "base_uri": "https://localhost:8080/"
        },
        "id": "T71d7G0i3ROq",
        "outputId": "8148294d-7000-4f78-955f-4a43718448bf"
      },
      "execution_count": 61,
      "outputs": [
        {
          "output_type": "execute_result",
          "data": {
            "text/plain": [
              "2022"
            ]
          },
          "metadata": {},
          "execution_count": 61
        }
      ]
    },
    {
      "cell_type": "markdown",
      "source": [
        "We can defifne default attributes of a Class"
      ],
      "metadata": {
        "id": "5tBSo79D3TC2"
      }
    },
    {
      "cell_type": "code",
      "source": [
        "class Car():\n",
        "  def __init__(self,make,model,year):\n",
        "    self.make=make\n",
        "    self.model=model\n",
        "    self.year=year\n",
        "    self.Battery='500mah'\n",
        "\n",
        "  def describeCar(self):\n",
        "    print(f'The {self.make} {self.model} is built in {self.year}')"
      ],
      "metadata": {
        "id": "0FUBYj3u38fy"
      },
      "execution_count": 62,
      "outputs": []
    },
    {
      "cell_type": "code",
      "source": [
        "car1=Car('Honda','civic',2020)"
      ],
      "metadata": {
        "id": "c8liUd4r4C8R"
      },
      "execution_count": 63,
      "outputs": []
    },
    {
      "cell_type": "code",
      "source": [
        "car1.Battery"
      ],
      "metadata": {
        "colab": {
          "base_uri": "https://localhost:8080/",
          "height": 35
        },
        "id": "JJ9JQqgV4JPp",
        "outputId": "1ee1b3d0-d938-4497-895f-8d5cdf0fbf98"
      },
      "execution_count": 64,
      "outputs": [
        {
          "output_type": "execute_result",
          "data": {
            "application/vnd.google.colaboratory.intrinsic+json": {
              "type": "string"
            },
            "text/plain": [
              "'500mah'"
            ]
          },
          "metadata": {},
          "execution_count": 64
        }
      ]
    },
    {
      "cell_type": "code",
      "source": [
        ""
      ],
      "metadata": {
        "id": "V_gKQbte4K55"
      },
      "execution_count": null,
      "outputs": []
    }
  ]
}