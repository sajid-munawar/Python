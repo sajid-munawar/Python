{
 "cells": [
  {
   "cell_type": "markdown",
   "metadata": {},
   "source": [
    "# Introducing L ists"
   ]
  },
  {
   "cell_type": "markdown",
   "metadata": {},
   "source": [
    "3-1. Names"
   ]
  },
  {
   "cell_type": "code",
   "execution_count": 1,
   "metadata": {},
   "outputs": [
    {
     "name": "stdout",
     "output_type": "stream",
     "text": [
      "Mehran\n",
      "Umar\n",
      "Asad\n",
      "Khalid\n"
     ]
    }
   ],
   "source": [
    "my_friends=[\"Mehran\",\"Umar\",\"Asad\",\"Khalid\"]\n",
    "my_friends\n",
    "print(my_friends[0],my_friends[1],my_friends[2],my_friends[3],sep=\"\\n\")"
   ]
  },
  {
   "cell_type": "markdown",
   "metadata": {},
   "source": [
    "3-2. Greetings"
   ]
  },
  {
   "cell_type": "code",
   "execution_count": 2,
   "metadata": {},
   "outputs": [
    {
     "name": "stdout",
     "output_type": "stream",
     "text": [
      "how are you  Mehran ?\n",
      "how are you  Umar ?\n",
      "how are you  Asad ?\n",
      "how are you  Khalid ?\n"
     ]
    }
   ],
   "source": [
    "print(\"how are you \",my_friends[0],\"?\")\n",
    "print(\"how are you \",my_friends[1],\"?\")\n",
    "print(\"how are you \",my_friends[2],\"?\")\n",
    "print(\"how are you \",my_friends[3],\"?\")"
   ]
  },
  {
   "cell_type": "code",
   "execution_count": 3,
   "metadata": {},
   "outputs": [
    {
     "name": "stdout",
     "output_type": "stream",
     "text": [
      "how are you  Mehran ?\n",
      "how are you  Umar ?\n",
      "how are you  Asad ?\n",
      "how are you  Khalid ?\n"
     ]
    }
   ],
   "source": [
    "for a in my_friends:\n",
    "    print(\"how are you \",a,\"?\")"
   ]
  },
  {
   "cell_type": "markdown",
   "metadata": {},
   "source": [
    "3-3. Your Own List"
   ]
  },
  {
   "cell_type": "code",
   "execution_count": 4,
   "metadata": {},
   "outputs": [
    {
     "name": "stdout",
     "output_type": "stream",
     "text": [
      "I would like to buy Honda Civic of model 2020\n"
     ]
    }
   ],
   "source": [
    "vehicles=[\"Honda\",\"Civic\",\"2020\"]\n",
    "print(\"I would like to buy\",vehicles[0],vehicles[1],\"of model\",vehicles[2])"
   ]
  },
  {
   "cell_type": "markdown",
   "metadata": {},
   "source": [
    "3-4. Guest List"
   ]
  },
  {
   "cell_type": "code",
   "execution_count": 5,
   "metadata": {},
   "outputs": [
    {
     "name": "stdout",
     "output_type": "stream",
     "text": [
      "Ali You are invited for dinner.\n",
      "Ahmad You are invited for dinner.\n",
      "Nasir You are invited for dinner.\n"
     ]
    }
   ],
   "source": [
    "invite_for_dinner=[\"ali\",\"ahmad\",\"nasir\"]\n",
    "print(invite_for_dinner[0].title(),\"You are invited for dinner.\")\n",
    "print(invite_for_dinner[1].title(),\"You are invited for dinner.\")\n",
    "print(invite_for_dinner[2].title(),\"You are invited for dinner.\")"
   ]
  },
  {
   "cell_type": "code",
   "execution_count": 6,
   "metadata": {},
   "outputs": [
    {
     "name": "stdout",
     "output_type": "stream",
     "text": [
      "Ali You are invited for dinner.\n",
      "Ahmad You are invited for dinner.\n",
      "Nasir You are invited for dinner.\n"
     ]
    }
   ],
   "source": [
    "#using for loop\n",
    "invite_for_dinner=[\"ali\",\"ahmad\",\"nasir\"]\n",
    "for a in invite_for_dinner:\n",
    "    print(a.title(),\"You are invited for dinner.\")"
   ]
  },
  {
   "cell_type": "markdown",
   "metadata": {},
   "source": [
    "3-5. Changing Guest List:"
   ]
  },
  {
   "cell_type": "code",
   "execution_count": 7,
   "metadata": {},
   "outputs": [
    {
     "name": "stdout",
     "output_type": "stream",
     "text": [
      "Ali You are invited for dinner.\n",
      "Ahmad You are invited for dinner.\n",
      "Nasir You are invited for dinner.\n",
      "Nasir can't come for dinner.\n"
     ]
    }
   ],
   "source": [
    "invite_for_dinner=[\"ali\",\"ahmad\",\"nasir\"]\n",
    "can_not_come=\"Nasir\"\n",
    "print(invite_for_dinner[0].title(),\"You are invited for dinner.\")\n",
    "print(invite_for_dinner[1].title(),\"You are invited for dinner.\")\n",
    "print(invite_for_dinner[2].title(),\"You are invited for dinner.\")\n",
    "print(can_not_come,\"can't come for dinner.\")"
   ]
  },
  {
   "cell_type": "code",
   "execution_count": 8,
   "metadata": {},
   "outputs": [],
   "source": [
    "invite_for_dinner[2]=\"hamza\""
   ]
  },
  {
   "cell_type": "code",
   "execution_count": 9,
   "metadata": {},
   "outputs": [
    {
     "name": "stdout",
     "output_type": "stream",
     "text": [
      "Ali You are invited for dinner.\n",
      "Ahmad You are invited for dinner.\n",
      "Hamza You are invited for dinner.\n"
     ]
    }
   ],
   "source": [
    "for a in invite_for_dinner:\n",
    "    print(a.title(),\"You are invited for dinner.\")"
   ]
  },
  {
   "cell_type": "markdown",
   "metadata": {},
   "source": [
    "3-6. More Guests"
   ]
  },
  {
   "cell_type": "code",
   "execution_count": 10,
   "metadata": {},
   "outputs": [],
   "source": [
    "invite_for_dinner.insert(0,\"bilal\")"
   ]
  },
  {
   "cell_type": "code",
   "execution_count": 11,
   "metadata": {},
   "outputs": [],
   "source": [
    "invite_for_dinner.insert(2,\"Younas\")"
   ]
  },
  {
   "cell_type": "code",
   "execution_count": 12,
   "metadata": {},
   "outputs": [],
   "source": [
    "invite_for_dinner.append(\"asad\")"
   ]
  },
  {
   "cell_type": "code",
   "execution_count": 13,
   "metadata": {},
   "outputs": [
    {
     "data": {
      "text/plain": [
       "['bilal', 'ali', 'Younas', 'ahmad', 'hamza', 'asad']"
      ]
     },
     "execution_count": 13,
     "metadata": {},
     "output_type": "execute_result"
    }
   ],
   "source": [
    "invite_for_dinner"
   ]
  },
  {
   "cell_type": "code",
   "execution_count": 14,
   "metadata": {},
   "outputs": [
    {
     "name": "stdout",
     "output_type": "stream",
     "text": [
      "Bilal You are invited for dinner.\n",
      "Ali You are invited for dinner.\n",
      "Younas You are invited for dinner.\n",
      "Ahmad You are invited for dinner.\n",
      "Hamza You are invited for dinner.\n",
      "Asad You are invited for dinner.\n"
     ]
    }
   ],
   "source": [
    "for a in invite_for_dinner:\n",
    "    print(a.title(),\"You are invited for dinner.\")"
   ]
  },
  {
   "cell_type": "markdown",
   "metadata": {},
   "source": [
    "3-7. Shrinking Guest List"
   ]
  },
  {
   "cell_type": "code",
   "execution_count": 15,
   "metadata": {},
   "outputs": [
    {
     "name": "stdout",
     "output_type": "stream",
     "text": [
      "oops! I have space for only two guests,\n",
      "So i can invite only two peoples.\n"
     ]
    },
    {
     "data": {
      "text/plain": [
       "6"
      ]
     },
     "execution_count": 15,
     "metadata": {},
     "output_type": "execute_result"
    }
   ],
   "source": [
    "print(\"oops! I have space for only two guests,\\nSo i can invite only two peoples.\")\n",
    "len(invite_for_dinner)\n"
   ]
  },
  {
   "cell_type": "code",
   "execution_count": 16,
   "metadata": {},
   "outputs": [
    {
     "name": "stdout",
     "output_type": "stream",
     "text": [
      "I'm sorry asad, i can't invite you for dinner.\n",
      "I'm sorry hamza, i can't invite you for dinner.\n",
      "I'm sorry ahmad, i can't invite you for dinner.\n",
      "I'm sorry Younas, i can't invite you for dinner.\n"
     ]
    }
   ],
   "source": [
    "c=invite_for_dinner.pop()\n",
    "print(f\"I'm sorry {c}, i can't invite you for dinner.\")\n",
    "c=invite_for_dinner.pop()\n",
    "print(f\"I'm sorry {c}, i can't invite you for dinner.\")\n",
    "c=invite_for_dinner.pop()\n",
    "print(f\"I'm sorry {c}, i can't invite you for dinner.\")\n",
    "c=invite_for_dinner.pop()\n",
    "print(f\"I'm sorry {c}, i can't invite you for dinner.\")"
   ]
  },
  {
   "cell_type": "code",
   "execution_count": 17,
   "metadata": {},
   "outputs": [
    {
     "name": "stdout",
     "output_type": "stream",
     "text": [
      "Bilal You are invited for dinner.\n",
      "Ali You are invited for dinner.\n"
     ]
    }
   ],
   "source": [
    "\n",
    "for a in invite_for_dinner:\n",
    "    print(a.title(),\"You are invited for dinner.\")"
   ]
  },
  {
   "cell_type": "code",
   "execution_count": 18,
   "metadata": {},
   "outputs": [
    {
     "name": "stdout",
     "output_type": "stream",
     "text": [
      "[]\n"
     ]
    }
   ],
   "source": [
    "del invite_for_dinner[1]\n",
    "del invite_for_dinner[0]\n",
    "print(invite_for_dinner)"
   ]
  },
  {
   "cell_type": "markdown",
   "metadata": {},
   "source": [
    "3-8. Seeing the World"
   ]
  },
  {
   "cell_type": "code",
   "execution_count": 35,
   "metadata": {},
   "outputs": [],
   "source": [
    "#Store the locations in a list. Make sure the list is not in alphabetical order\n",
    "places=[\"naltar\",\"kagan\",\"multan\",\"lahore\"]"
   ]
  },
  {
   "cell_type": "code",
   "execution_count": 36,
   "metadata": {},
   "outputs": [
    {
     "name": "stdout",
     "output_type": "stream",
     "text": [
      "['naltar', 'kagan', 'multan', 'lahore']\n"
     ]
    }
   ],
   "source": [
    "#Print your list in its original order.\n",
    "print(places)"
   ]
  },
  {
   "cell_type": "code",
   "execution_count": 37,
   "metadata": {},
   "outputs": [
    {
     "name": "stdout",
     "output_type": "stream",
     "text": [
      "['kagan', 'lahore', 'multan', 'naltar']\n"
     ]
    }
   ],
   "source": [
    "# Use sorted() to print your list in alphabetical order\n",
    "print(sorted(places))"
   ]
  },
  {
   "cell_type": "code",
   "execution_count": 38,
   "metadata": {},
   "outputs": [
    {
     "name": "stdout",
     "output_type": "stream",
     "text": [
      "['naltar', 'kagan', 'multan', 'lahore']\n"
     ]
    }
   ],
   "source": [
    "# Show that your list is still in its original order by printing it.\n",
    "print(places)"
   ]
  },
  {
   "cell_type": "raw",
   "metadata": {},
   "source": [
    "# Use sorted() to print your list in reverse alphabetical order without changing he order of the original list.\n"
   ]
  },
  {
   "cell_type": "raw",
   "metadata": {},
   "source": [
    "Notice that reverse() doesn’t sort backward alphabetically; it simply\n",
    "reverses the order of the list:"
   ]
  },
  {
   "cell_type": "code",
   "execution_count": 49,
   "metadata": {},
   "outputs": [
    {
     "ename": "NameError",
     "evalue": "name 'sort' is not defined",
     "output_type": "error",
     "traceback": [
      "\u001b[1;31m---------------------------------------------------------------------------\u001b[0m",
      "\u001b[1;31mNameError\u001b[0m                                 Traceback (most recent call last)",
      "\u001b[1;32m<ipython-input-49-266ed9840b1b>\u001b[0m in \u001b[0;36m<module>\u001b[1;34m\u001b[0m\n\u001b[1;32m----> 1\u001b[1;33m \u001b[0mprint\u001b[0m\u001b[1;33m(\u001b[0m\u001b[0msort\u001b[0m\u001b[1;33m(\u001b[0m\u001b[0mplaces\u001b[0m\u001b[1;33m.\u001b[0m\u001b[0mreverse\u001b[0m\u001b[1;33m(\u001b[0m\u001b[1;33m)\u001b[0m\u001b[1;33m)\u001b[0m\u001b[1;33m)\u001b[0m\u001b[1;33m\u001b[0m\u001b[1;33m\u001b[0m\u001b[0m\n\u001b[0m",
      "\u001b[1;31mNameError\u001b[0m: name 'sort' is not defined"
     ]
    }
   ],
   "source": [
    "print(sorted(places.reverse()))"
   ]
  },
  {
   "cell_type": "code",
   "execution_count": 46,
   "metadata": {},
   "outputs": [
    {
     "name": "stdout",
     "output_type": "stream",
     "text": [
      "['naltar', 'kagan', 'multan', 'lahore']\n",
      "['lahore', 'multan', 'kagan', 'naltar']\n"
     ]
    }
   ],
   "source": [
    "# Use reverse() to change the order of your list. Print the list to show that its\n",
    "# order has changed\n",
    "print(places)\n",
    "places.reverse()\n",
    "print(places)"
   ]
  },
  {
   "cell_type": "code",
   "execution_count": 47,
   "metadata": {},
   "outputs": [
    {
     "name": "stdout",
     "output_type": "stream",
     "text": [
      "['lahore', 'multan', 'kagan', 'naltar']\n",
      "['naltar', 'kagan', 'multan', 'lahore']\n"
     ]
    }
   ],
   "source": [
    "# Use reverse() to change the order of your list again. Print the list to show\n",
    "# it’s back to its original order\n",
    "print(places)\n",
    "places.reverse()\n",
    "print(places)"
   ]
  },
  {
   "cell_type": "code",
   "execution_count": 48,
   "metadata": {},
   "outputs": [
    {
     "name": "stdout",
     "output_type": "stream",
     "text": [
      "['naltar', 'kagan', 'multan', 'lahore']\n",
      "['kagan', 'lahore', 'multan', 'naltar']\n"
     ]
    }
   ],
   "source": [
    "# Use sort() to change your list so it’s stored in alphabetical order. Print the\n",
    "# list to show that its order has been changed\n",
    "print(places)\n",
    "places.sort()\n",
    "print(places)"
   ]
  },
  {
   "cell_type": "code",
   "execution_count": 51,
   "metadata": {},
   "outputs": [
    {
     "name": "stdout",
     "output_type": "stream",
     "text": [
      "['kagan', 'lahore', 'multan', 'naltar']\n"
     ]
    },
    {
     "ename": "AttributeError",
     "evalue": "'builtin_function_or_method' object has no attribute 'places'",
     "output_type": "error",
     "traceback": [
      "\u001b[1;31m---------------------------------------------------------------------------\u001b[0m",
      "\u001b[1;31mAttributeError\u001b[0m                            Traceback (most recent call last)",
      "\u001b[1;32m<ipython-input-51-8bb1eb1231d4>\u001b[0m in \u001b[0;36m<module>\u001b[1;34m\u001b[0m\n\u001b[0;32m      2\u001b[0m \u001b[1;31m# Print the list to show that its order has changed.\u001b[0m\u001b[1;33m\u001b[0m\u001b[1;33m\u001b[0m\u001b[1;33m\u001b[0m\u001b[0m\n\u001b[0;32m      3\u001b[0m \u001b[0mprint\u001b[0m\u001b[1;33m(\u001b[0m\u001b[0mplaces\u001b[0m\u001b[1;33m)\u001b[0m\u001b[1;33m\u001b[0m\u001b[1;33m\u001b[0m\u001b[0m\n\u001b[1;32m----> 4\u001b[1;33m \u001b[0mprint\u001b[0m\u001b[1;33m(\u001b[0m\u001b[0msorted\u001b[0m\u001b[1;33m.\u001b[0m\u001b[0mplaces\u001b[0m\u001b[1;33m.\u001b[0m\u001b[0mreverse\u001b[0m\u001b[1;33m(\u001b[0m\u001b[1;33m)\u001b[0m\u001b[1;33m)\u001b[0m \u001b[1;31m#we cannot sort a list reverse alphabatically.\u001b[0m\u001b[1;33m\u001b[0m\u001b[1;33m\u001b[0m\u001b[0m\n\u001b[0m",
      "\u001b[1;31mAttributeError\u001b[0m: 'builtin_function_or_method' object has no attribute 'places'"
     ]
    }
   ],
   "source": [
    "# Use sort() to change your list so it’s stored in reverse alphabetical order.\n",
    "# Print the list to show that its order has changed.\n",
    "print(places)\n",
    "print(sorted.places.reverse()) #we cannot sort a list reverse alphabatically."
   ]
  },
  {
   "cell_type": "markdown",
   "metadata": {},
   "source": [
    "3-9. Dinner Guests"
   ]
  },
  {
   "cell_type": "code",
   "execution_count": 53,
   "metadata": {},
   "outputs": [
    {
     "data": {
      "text/plain": [
       "3"
      ]
     },
     "execution_count": 53,
     "metadata": {},
     "output_type": "execute_result"
    }
   ],
   "source": [
    "invite_for_dinner=[\"ali\",\"ahmad\",\"nasir\"]\n",
    "len(invite_for_dinner)"
   ]
  },
  {
   "cell_type": "markdown",
   "metadata": {},
   "source": [
    "3-11. Intentional Error"
   ]
  },
  {
   "cell_type": "code",
   "execution_count": 54,
   "metadata": {},
   "outputs": [
    {
     "ename": "IndexError",
     "evalue": "list index out of range",
     "output_type": "error",
     "traceback": [
      "\u001b[1;31m---------------------------------------------------------------------------\u001b[0m",
      "\u001b[1;31mIndexError\u001b[0m                                Traceback (most recent call last)",
      "\u001b[1;32m<ipython-input-54-d225932b5854>\u001b[0m in \u001b[0;36m<module>\u001b[1;34m\u001b[0m\n\u001b[1;32m----> 1\u001b[1;33m \u001b[0minvite_for_dinner\u001b[0m\u001b[1;33m[\u001b[0m\u001b[1;36m3\u001b[0m\u001b[1;33m]\u001b[0m\u001b[1;33m\u001b[0m\u001b[1;33m\u001b[0m\u001b[0m\n\u001b[0m",
      "\u001b[1;31mIndexError\u001b[0m: list index out of range"
     ]
    }
   ],
   "source": [
    "invite_for_dinner[3]"
   ]
  },
  {
   "cell_type": "code",
   "execution_count": 55,
   "metadata": {},
   "outputs": [
    {
     "data": {
      "text/plain": [
       "'nasir'"
      ]
     },
     "execution_count": 55,
     "metadata": {},
     "output_type": "execute_result"
    }
   ],
   "source": [
    "invite_for_dinner[2]"
   ]
  },
  {
   "cell_type": "code",
   "execution_count": null,
   "metadata": {},
   "outputs": [],
   "source": []
  }
 ],
 "metadata": {
  "kernelspec": {
   "display_name": "Python 3",
   "language": "python",
   "name": "python3"
  },
  "language_info": {
   "codemirror_mode": {
    "name": "ipython",
    "version": 3
   },
   "file_extension": ".py",
   "mimetype": "text/x-python",
   "name": "python",
   "nbconvert_exporter": "python",
   "pygments_lexer": "ipython3",
   "version": "3.7.6"
  }
 },
 "nbformat": 4,
 "nbformat_minor": 4
}
