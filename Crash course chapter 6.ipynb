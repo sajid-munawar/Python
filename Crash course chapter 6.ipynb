{
 "cells": [
  {
   "cell_type": "markdown",
   "metadata": {},
   "source": [
    "# Dictionaries"
   ]
  },
  {
   "cell_type": "markdown",
   "metadata": {},
   "source": [
    "6-1. Person"
   ]
  },
  {
   "cell_type": "code",
   "execution_count": 58,
   "metadata": {},
   "outputs": [],
   "source": [
    "student_1 = {\n",
    "    \"first_name\":\"sajid\",\n",
    "    \"last_name\":\"munawar\",\n",
    "    \"age\":23,\n",
    "    \"city\":\"Bahawalpur\"\n",
    "}"
   ]
  },
  {
   "cell_type": "code",
   "execution_count": 2,
   "metadata": {},
   "outputs": [
    {
     "name": "stdout",
     "output_type": "stream",
     "text": [
      "sajid\n",
      "munawar\n",
      "23\n",
      "Bahawalpur\n"
     ]
    }
   ],
   "source": [
    "print(student_1[\"first_name\"])\n",
    "print(student_1[\"last_name\"])\n",
    "print(student_1[\"age\"])\n",
    "print(student_1[\"city\"])"
   ]
  },
  {
   "cell_type": "markdown",
   "metadata": {},
   "source": [
    "# Using get() to Access Values"
   ]
  },
  {
   "cell_type": "raw",
   "metadata": {},
   "source": [
    "If the key you ask for\n",
    "doesn’t exist, you’ll get an error.\n",
    "So get method is to solve this problem."
   ]
  },
  {
   "cell_type": "code",
   "execution_count": 18,
   "metadata": {},
   "outputs": [],
   "source": [
    "user={\"name\":\"sajid\"}"
   ]
  },
  {
   "cell_type": "code",
   "execution_count": 20,
   "metadata": {},
   "outputs": [
    {
     "name": "stdout",
     "output_type": "stream",
     "text": [
      "sajid\n"
     ]
    }
   ],
   "source": [
    "print(user[\"name\"])"
   ]
  },
  {
   "cell_type": "code",
   "execution_count": 22,
   "metadata": {},
   "outputs": [
    {
     "ename": "KeyError",
     "evalue": "'f_name'",
     "output_type": "error",
     "traceback": [
      "\u001b[1;31m---------------------------------------------------------------------------\u001b[0m",
      "\u001b[1;31mKeyError\u001b[0m                                  Traceback (most recent call last)",
      "\u001b[1;32m<ipython-input-22-b680b59b05ef>\u001b[0m in \u001b[0;36m<module>\u001b[1;34m\u001b[0m\n\u001b[1;32m----> 1\u001b[1;33m \u001b[0mprint\u001b[0m\u001b[1;33m(\u001b[0m\u001b[0muser\u001b[0m\u001b[1;33m[\u001b[0m\u001b[1;34m\"f_name\"\u001b[0m\u001b[1;33m]\u001b[0m\u001b[1;33m)\u001b[0m  \u001b[1;31m#there will be a KeyError\u001b[0m\u001b[1;33m\u001b[0m\u001b[1;33m\u001b[0m\u001b[0m\n\u001b[0m",
      "\u001b[1;31mKeyError\u001b[0m: 'f_name'"
     ]
    }
   ],
   "source": [
    "print(user[\"f_name\"])  #there will be a KeyError"
   ]
  },
  {
   "cell_type": "code",
   "execution_count": 28,
   "metadata": {},
   "outputs": [
    {
     "name": "stdout",
     "output_type": "stream",
     "text": [
      "sajid\n"
     ]
    }
   ],
   "source": [
    "print(user.get(\"name\",\"ali\"))   #if key value exist no changes will be commit"
   ]
  },
  {
   "cell_type": "code",
   "execution_count": 29,
   "metadata": {},
   "outputs": [
    {
     "name": "stdout",
     "output_type": "stream",
     "text": [
      "Munawar\n"
     ]
    }
   ],
   "source": [
    "print(user.get(\"f_name\",\"Munawar\"))  #if key value does not exist it will asign"
   ]
  },
  {
   "cell_type": "markdown",
   "metadata": {},
   "source": [
    "6-2. Favorite Numbers"
   ]
  },
  {
   "cell_type": "code",
   "execution_count": 3,
   "metadata": {},
   "outputs": [],
   "source": [
    "favourite_numbers= {\n",
    "    \"ali\":5,\n",
    "    \"sajid\":6,\n",
    "    \"umar\":7,\n",
    "    \"asad\":8,\n",
    "    \"saad\":9,\n",
    "}"
   ]
  },
  {
   "cell_type": "code",
   "execution_count": 9,
   "metadata": {},
   "outputs": [
    {
     "name": "stdout",
     "output_type": "stream",
     "text": [
      "\n",
      "\n",
      "{'ali': 5, 'sajid': 6, 'umar': 7, 'asad': 8, 'saad': 9}\n",
      "\n",
      "\n"
     ]
    }
   ],
   "source": [
    "print(\"\\n\",favourite_numbers,\"\\n\")"
   ]
  },
  {
   "cell_type": "markdown",
   "metadata": {},
   "source": [
    "6-3. Glossary"
   ]
  },
  {
   "cell_type": "code",
   "execution_count": 11,
   "metadata": {},
   "outputs": [
    {
     "name": "stdout",
     "output_type": "stream",
     "text": [
      "dict_items([('ali', 5), ('sajid', 6), ('umar', 7), ('asad', 8), ('saad', 9)])\n"
     ]
    }
   ],
   "source": [
    "print(favourite_numbers.items(),sep=\"\\n\")"
   ]
  },
  {
   "cell_type": "markdown",
   "metadata": {},
   "source": [
    "6-3. Glossary"
   ]
  },
  {
   "cell_type": "code",
   "execution_count": 5,
   "metadata": {},
   "outputs": [],
   "source": [
    "        glossary={\n",
    "            \"g_1\":{\n",
    "                \"variable\":\"it is a name of any value that can be vary or change\"\n",
    "            },\n",
    "            \"g_2\":{\n",
    "                \"list\":\"a kind of data in which any kind of data can be stored\"\n",
    "            },\n",
    "            \"g_3\":{\n",
    "                \"tuple\":\"a type of data which can not be change\"\n",
    "            },\n",
    "            \"g_4\":\n",
    "             {\n",
    "                 \"dictionarty\":\"a type of data in which key value pair can be stored\"\n",
    "             },\n",
    "             \"g_5\":{\n",
    "                 \"true\":\"if a condition is accurate or valid then python tells us that us is true\"\n",
    "             }\n",
    "            }"
   ]
  },
  {
   "cell_type": "code",
   "execution_count": 7,
   "metadata": {},
   "outputs": [
    {
     "name": "stdout",
     "output_type": "stream",
     "text": [
      "dict_items([('g_1', {'variable': 'it is a name of any value that can be vary or change'}), ('g_2', {'list': 'a kind of data in which any kind of data can be stored'}), ('g_3', {'tuple': 'a type of data which can not be change'}), ('g_4', {'dictionarty': 'a type of data in which key value pair can be stored'}), ('g_5', {'true': 'if a condition is accurate or valid then python tells us that us is true'})])\n"
     ]
    }
   ],
   "source": [
    "print(glossary.items())"
   ]
  },
  {
   "cell_type": "code",
   "execution_count": 10,
   "metadata": {},
   "outputs": [
    {
     "name": "stdout",
     "output_type": "stream",
     "text": [
      "\n",
      " g_1 \n",
      "     {'variable': 'it is a name of any value that can be vary or change'}\n",
      "\n",
      " g_2 \n",
      "     {'list': 'a kind of data in which any kind of data can be stored'}\n",
      "\n",
      " g_3 \n",
      "     {'tuple': 'a type of data which can not be change'}\n",
      "\n",
      " g_4 \n",
      "     {'dictionarty': 'a type of data in which key value pair can be stored'}\n",
      "\n",
      " g_5 \n",
      "     {'true': 'if a condition is accurate or valid then python tells us that us is true'}\n"
     ]
    }
   ],
   "source": [
    "for k,v in glossary.items():\n",
    "    print(\"\\n\",k,\"\\n    \",v)"
   ]
  },
  {
   "cell_type": "code",
   "execution_count": 16,
   "metadata": {},
   "outputs": [],
   "source": [
    "  glossary={\n",
    "            \"variable\":\"it is a name of any value that can be vary or change\",\n",
    "            \"list\":\"a kind of data in which any kind of data can be stored\",\n",
    "            \"tuple\":\"a type of data which can not be change\",\n",
    "            \"dictionarty\":\"a type of data in which key value pair can be stored\",\n",
    "             \"true\":\"if a condition is accurate or valid then python tells us that us is true\"\n",
    "            }"
   ]
  },
  {
   "cell_type": "markdown",
   "metadata": {},
   "source": [
    "Print each word and its meaning as neatly formatted output. You might\n",
    "print the word followed by a colon and then its meaning, or print the word\n",
    "on one line and then print its meaning indented on a second line. Use the\n",
    "newline character (\\n) to insert a blank line between each word-meaning\n",
    "pair in your output"
   ]
  },
  {
   "cell_type": "code",
   "execution_count": 17,
   "metadata": {},
   "outputs": [
    {
     "name": "stdout",
     "output_type": "stream",
     "text": [
      "\n",
      " variable \n",
      "     it is a name of any value that can be vary or change\n",
      "\n",
      " list \n",
      "     a kind of data in which any kind of data can be stored\n",
      "\n",
      " tuple \n",
      "     a type of data which can not be change\n",
      "\n",
      " dictionarty \n",
      "     a type of data in which key value pair can be stored\n",
      "\n",
      " true \n",
      "     if a condition is accurate or valid then python tells us that us is true\n"
     ]
    }
   ],
   "source": [
    "for k,v in glossary.items():\n",
    "    print(\"\\n\",k,\"\\n    \",v)"
   ]
  },
  {
   "cell_type": "markdown",
   "metadata": {},
   "source": [
    "# use of set"
   ]
  },
  {
   "cell_type": "code",
   "execution_count": 30,
   "metadata": {},
   "outputs": [],
   "source": [
    "favorite_languages = {\n",
    "'jen': 'python',\n",
    "'sarah': 'c',\n",
    "'edward': 'ruby',\n",
    "'phil': 'python',\n",
    "}"
   ]
  },
  {
   "cell_type": "markdown",
   "metadata": {},
   "source": [
    "A set is a collection in which each item must be unique"
   ]
  },
  {
   "cell_type": "code",
   "execution_count": 31,
   "metadata": {},
   "outputs": [
    {
     "name": "stdout",
     "output_type": "stream",
     "text": [
      "Python\n",
      "C\n",
      "Ruby\n"
     ]
    }
   ],
   "source": [
    "for language in set(favorite_languages.values()):\n",
    "    print(language.title())"
   ]
  },
  {
   "cell_type": "code",
   "execution_count": 44,
   "metadata": {},
   "outputs": [],
   "source": [
    "languages = {'python', 'ruby', 'python', 'c'}"
   ]
  },
  {
   "cell_type": "code",
   "execution_count": 45,
   "metadata": {},
   "outputs": [
    {
     "data": {
      "text/plain": [
       "{'c', 'python', 'ruby'}"
      ]
     },
     "execution_count": 45,
     "metadata": {},
     "output_type": "execute_result"
    }
   ],
   "source": [
    "languages"
   ]
  },
  {
   "cell_type": "code",
   "execution_count": 46,
   "metadata": {},
   "outputs": [
    {
     "data": {
      "text/plain": [
       "set"
      ]
     },
     "execution_count": 46,
     "metadata": {},
     "output_type": "execute_result"
    }
   ],
   "source": [
    "type(languages)"
   ]
  },
  {
   "cell_type": "markdown",
   "metadata": {},
   "source": [
    "6-5. Rivers"
   ]
  },
  {
   "cell_type": "code",
   "execution_count": 36,
   "metadata": {},
   "outputs": [],
   "source": [
    "# Make a dictionary containing three major rivers\n",
    "rivers={\"Nile\":\"Africa (egypt)\",\"Amazon\":\"South America\",\"Yangtze\":\"Asia (China)\"}"
   ]
  },
  {
   "cell_type": "code",
   "execution_count": 39,
   "metadata": {},
   "outputs": [
    {
     "name": "stdout",
     "output_type": "stream",
     "text": [
      "Nile runs through Africa (egypt).\n",
      "Amazon runs through South America.\n",
      "Yangtze runs through Asia (China).\n"
     ]
    }
   ],
   "source": [
    "for river,country in rivers.items():\n",
    "    print(f\"{river} runs through {country}.\")"
   ]
  },
  {
   "cell_type": "code",
   "execution_count": 42,
   "metadata": {},
   "outputs": [
    {
     "name": "stdout",
     "output_type": "stream",
     "text": [
      "Nile\n",
      "Amazon\n",
      "Yangtze\n"
     ]
    }
   ],
   "source": [
    "# Use a loop to print the name of each river included in the dictionary\n",
    "for river in rivers.keys():\n",
    "    print(river)"
   ]
  },
  {
   "cell_type": "code",
   "execution_count": 43,
   "metadata": {},
   "outputs": [
    {
     "name": "stdout",
     "output_type": "stream",
     "text": [
      "Africa (egypt)\n",
      "South America\n",
      "Asia (China)\n"
     ]
    }
   ],
   "source": [
    "# Use a loop to print the name of each country included in the dictionary.\n",
    "for country in rivers.values():\n",
    "    print(country)"
   ]
  },
  {
   "cell_type": "markdown",
   "metadata": {},
   "source": [
    "6-6. Polling"
   ]
  },
  {
   "cell_type": "code",
   "execution_count": 47,
   "metadata": {},
   "outputs": [],
   "source": [
    "favorite_languages = {\n",
    "'asad': 'python',\n",
    "'ali': 'c',\n",
    "'anjum': 'ruby',\n",
    "'umar': 'python',\n",
    "}"
   ]
  },
  {
   "cell_type": "code",
   "execution_count": 54,
   "metadata": {},
   "outputs": [],
   "source": [
    "# Make a list of people who should take the favorite languages poll\n",
    "poll_participants=[\"sajid\",'asad','ali','anjum',\"nasir\",'umar']"
   ]
  },
  {
   "cell_type": "code",
   "execution_count": 57,
   "metadata": {},
   "outputs": [
    {
     "name": "stdout",
     "output_type": "stream",
     "text": [
      "Sajid we invite you to tell us about your favourite language.\n",
      "Asad thank you.\n",
      "Ali thank you.\n",
      "Anjum thank you.\n",
      "Nasir we invite you to tell us about your favourite language.\n",
      "Umar thank you.\n"
     ]
    }
   ],
   "source": [
    "for name in poll_participants:\n",
    "    if name in favorite_languages.keys():\n",
    "        print(f\"{name.title()} thank you.\")\n",
    "    else:\n",
    "        print(f\"{name.title()} we invite you to tell us about your favourite language.\")"
   ]
  },
  {
   "cell_type": "markdown",
   "metadata": {},
   "source": [
    "# Nesting"
   ]
  },
  {
   "cell_type": "raw",
   "metadata": {},
   "source": [
    "A List of Dictionaries\n",
    "A List in a Dictionary \n",
    "A Dictionary in a Dictionary"
   ]
  },
  {
   "cell_type": "markdown",
   "metadata": {},
   "source": [
    "6-7. People"
   ]
  },
  {
   "cell_type": "code",
   "execution_count": 73,
   "metadata": {},
   "outputs": [],
   "source": [
    "# Start with the program you wrote for Exercise 6-1\n",
    "student_1 ={\n",
    "    \"first_name\":\"sajid\",\n",
    "    \"last_name\":\"munawar\",\n",
    "    \"age\":23,\n",
    "    \"city\":\"Bahawalpur\"\n",
    "},\n",
    "#     Make two new dictionaries representing different people\n",
    "student_2= {\n",
    "    \"first_name\":\"asad\",\n",
    "    \"last_name\":\"tariq\",\n",
    "    \"age\":25,\n",
    "    \"city\":\"Bahawalpur\"\n",
    "},\n",
    "\n",
    "student_3 = {\n",
    "    \"first_name\":\"ali\",\n",
    "    \"last_name\":\"ahmad\",\n",
    "    \"age\":28,\n",
    "    \"city\":\"Lahore\"\n",
    "}\n",
    "# store all three dictionaries in a list called people\n",
    "students= [student_1,student_2,student_3]"
   ]
  },
  {
   "cell_type": "code",
   "execution_count": 74,
   "metadata": {
    "scrolled": true
   },
   "outputs": [
    {
     "name": "stdout",
     "output_type": "stream",
     "text": [
      "({'first_name': 'sajid', 'last_name': 'munawar', 'age': 23, 'city': 'Bahawalpur'},)\n",
      "({'first_name': 'asad', 'last_name': 'tariq', 'age': 25, 'city': 'Bahawalpur'},)\n",
      "{'first_name': 'ali', 'last_name': 'ahmad', 'age': 28, 'city': 'Lahore'}\n"
     ]
    }
   ],
   "source": [
    "for info in students:\n",
    "    print(info)"
   ]
  },
  {
   "cell_type": "markdown",
   "metadata": {},
   "source": [
    "6-8. Pets"
   ]
  },
  {
   "cell_type": "code",
   "execution_count": 76,
   "metadata": {},
   "outputs": [
    {
     "name": "stdout",
     "output_type": "stream",
     "text": [
      "{'dog': 'owner aftab'}\n",
      "{'cat': 'owner ali'}\n",
      "{'panda': 'owner rehan'}\n"
     ]
    }
   ],
   "source": [
    "# Make several dictionaries\n",
    "pet_1={\"dog\":\"owner aftab\"}\n",
    "pet_2={\"cat\":\"owner ali\"}\n",
    "pet_3={\"panda\":\"owner rehan\"}\n",
    "# Store these dictionaries in a list called pets\n",
    "pets=[pet_1,pet_2,pet_3]\n",
    "# loop through your list\n",
    "for info in pets:\n",
    "    print(info)"
   ]
  },
  {
   "cell_type": "markdown",
   "metadata": {},
   "source": [
    "6-9. Favorite Places"
   ]
  },
  {
   "cell_type": "code",
   "execution_count": 85,
   "metadata": {},
   "outputs": [
    {
     "name": "stdout",
     "output_type": "stream",
     "text": [
      "Sajid ['nelum velly', 'naran', 'hunza']\n",
      "Ali ['punjab', 'gb', 'sindh']\n",
      "Rehan ['lhr', 'khi', 'fsd']\n"
     ]
    }
   ],
   "source": [
    "# Make a dictionary called favorite_places\n",
    "favourite_places={\n",
    "    \"sajid\":[\"nelum velly\",\"naran\",\"hunza\"],\n",
    "    \"ali\":[\"punjab\",\"gb\",\"sindh\"],\n",
    "    \"rehan\":[\"lhr\",\"khi\",\"fsd\"]\n",
    "}\n",
    "# Loop through the dictionary, and print each person’s name and their favorite places\n",
    "for name,place in favourite_places.items():\n",
    "    print(name.title(),place)"
   ]
  },
  {
   "cell_type": "markdown",
   "metadata": {},
   "source": [
    "6-10. Favorite Numbers"
   ]
  },
  {
   "cell_type": "code",
   "execution_count": 99,
   "metadata": {},
   "outputs": [
    {
     "ename": "TypeError",
     "evalue": "unhashable type: 'dict'",
     "output_type": "error",
     "traceback": [
      "\u001b[1;31m---------------------------------------------------------------------------\u001b[0m",
      "\u001b[1;31mTypeError\u001b[0m                                 Traceback (most recent call last)",
      "\u001b[1;32m<ipython-input-99-a47d2e86e0f4>\u001b[0m in \u001b[0;36m<module>\u001b[1;34m\u001b[0m\n\u001b[0;32m      5\u001b[0m     \u001b[1;33m{\u001b[0m\u001b[1;34m\"umar\"\u001b[0m\u001b[1;33m:\u001b[0m\u001b[1;33m[\u001b[0m\u001b[1;36m7\u001b[0m\u001b[1;33m,\u001b[0m\u001b[1;36m4\u001b[0m\u001b[1;33m,\u001b[0m\u001b[1;36m3\u001b[0m\u001b[1;33m]\u001b[0m\u001b[1;33m}\u001b[0m\u001b[1;33m,\u001b[0m\u001b[1;33m\u001b[0m\u001b[1;33m\u001b[0m\u001b[0m\n\u001b[0;32m      6\u001b[0m     \u001b[1;33m{\u001b[0m\u001b[1;34m\"asad\"\u001b[0m\u001b[1;33m:\u001b[0m\u001b[1;33m[\u001b[0m\u001b[1;36m8\u001b[0m\u001b[1;33m,\u001b[0m\u001b[1;36m6\u001b[0m\u001b[1;33m,\u001b[0m\u001b[1;36m7\u001b[0m\u001b[1;33m]\u001b[0m\u001b[1;33m}\u001b[0m\u001b[1;33m,\u001b[0m\u001b[1;33m\u001b[0m\u001b[1;33m\u001b[0m\u001b[0m\n\u001b[1;32m----> 7\u001b[1;33m     \u001b[1;33m{\u001b[0m\u001b[1;34m\"saad\"\u001b[0m\u001b[1;33m:\u001b[0m\u001b[1;33m{\u001b[0m\u001b[1;36m9\u001b[0m\u001b[1;33m,\u001b[0m\u001b[1;36m3\u001b[0m\u001b[1;33m,\u001b[0m\u001b[1;36m1\u001b[0m\u001b[1;33m}\u001b[0m\u001b[1;33m}\u001b[0m\u001b[1;33m,\u001b[0m\u001b[1;33m\u001b[0m\u001b[1;33m\u001b[0m\u001b[0m\n\u001b[0m\u001b[0;32m      8\u001b[0m }\n\u001b[0;32m      9\u001b[0m \u001b[1;32mfor\u001b[0m \u001b[0mname\u001b[0m\u001b[1;33m,\u001b[0m\u001b[0mnumber\u001b[0m \u001b[1;32min\u001b[0m \u001b[0mfavourite_numbers\u001b[0m\u001b[1;33m.\u001b[0m\u001b[0mitems\u001b[0m\u001b[1;33m(\u001b[0m\u001b[1;33m)\u001b[0m\u001b[1;33m:\u001b[0m\u001b[1;33m\u001b[0m\u001b[1;33m\u001b[0m\u001b[0m\n",
      "\u001b[1;31mTypeError\u001b[0m: unhashable type: 'dict'"
     ]
    }
   ],
   "source": [
    "# Modify your program from Exercise 6-2\n",
    "favourite_numbers= {\n",
    "    {\"ali\":[5,6,8]},\n",
    "    {\"sajid\":[6,8,9]},\n",
    "    {\"umar\":[7,4,3]},\n",
    "    {\"asad\":[8,6,7]},\n",
    "    {\"saad\":{9,3,1}},\n",
    "}\n",
    "for name,number in favourite_numbers.items():\n",
    "    print(f\"{name}s favourite numbers are {number}\")\n"
   ]
  },
  {
   "cell_type": "code",
   "execution_count": 108,
   "metadata": {},
   "outputs": [
    {
     "name": "stdout",
     "output_type": "stream",
     "text": [
      "Ali's favourite numbers are {5}\n",
      "Sajid's favourite numbers are {6}\n",
      "Umar's favourite numbers are {7}\n",
      "Asad's favourite numbers are {8}\n",
      "Saad's favourite numbers are {9}\n"
     ]
    }
   ],
   "source": [
    "# with single value\n",
    "favourite_numbers= {\n",
    "    \"ali\":{5},\n",
    "    \"sajid\":{6},\n",
    "    \"umar\":{7},\n",
    "    \"asad\":{8},\n",
    "    \"saad\":{9},\n",
    "}\n",
    "for name,number in favourite_numbers.items():\n",
    "    print(f\"{name.title()}'s favourite numbers are {number}\")"
   ]
  },
  {
   "cell_type": "code",
   "execution_count": 114,
   "metadata": {},
   "outputs": [
    {
     "name": "stdout",
     "output_type": "stream",
     "text": [
      "Ali's favourite numbers are (5, 6)\n",
      "Sajid's favourite numbers are (6, 7)\n",
      "Umar's favourite numbers are (7, 8)\n",
      "Asad's favourite numbers are (8, 9)\n",
      "Saad's favourite numbers are (9, 0)\n"
     ]
    }
   ],
   "source": [
    "# with multiple values\n",
    "favourite_numbers= {\n",
    "    \"ali\":(5,6),\n",
    "    \"sajid\":(6,7),\n",
    "    \"umar\":(7,8),\n",
    "    \"asad\":(8,9),\n",
    "    \"saad\":(9,0),\n",
    "}\n",
    "for name,number in favourite_numbers.items():\n",
    "    print(f\"{name.title()}'s favourite numbers are {number}\")"
   ]
  },
  {
   "cell_type": "markdown",
   "metadata": {},
   "source": [
    "6-11. Cities"
   ]
  },
  {
   "cell_type": "code",
   "execution_count": 120,
   "metadata": {},
   "outputs": [
    {
     "name": "stdout",
     "output_type": "stream",
     "text": [
      "Lahore \n",
      "\t ('Pakistan', 12642000, 'Minare pakistan')\n",
      "Islamabad \n",
      "\t ('Pakistan', 10996555, 'Faisal Mosque')\n",
      "karachi \n",
      "\t ('Pakistan', 146789787, 'Sea')\n"
     ]
    }
   ],
   "source": [
    "cities={\n",
    "    \"Lahore\":(\"Pakistan\",12_642_000,\"Minare pakistan\"),\n",
    "    \"Islamabad\":(\"Pakistan\",10_996_555,\"Faisal Mosque\"),\n",
    "    \"karachi\":(\"Pakistan\",14_678_9787,\"Sea\")\n",
    "}\n",
    "for name,info in cities.items():\n",
    "    print(name,\"\\n\\t\",info)"
   ]
  },
  {
   "cell_type": "markdown",
   "metadata": {},
   "source": [
    "6-12. Extensions"
   ]
  },
  {
   "cell_type": "code",
   "execution_count": 121,
   "metadata": {},
   "outputs": [
    {
     "name": "stdout",
     "output_type": "stream",
     "text": [
      "\n",
      " variable \n",
      "     it is a name of any value that can be vary or change\n",
      "\n",
      " list \n",
      "     a kind of data in which any kind of data can be stored\n",
      "\n",
      " tuple \n",
      "     a type of data which can not be change\n",
      "\n",
      " dictionarty \n",
      "     a type of data in which key value pair can be stored\n",
      "\n",
      " true \n",
      "     if a condition is accurate or valid then python tells us that us is true\n"
     ]
    }
   ],
   "source": [
    "glossary={\n",
    "            \"variable\":\"it is a name of any value that can be vary or change\",\n",
    "            \"list\":\"a kind of data in which any kind of data can be stored\",\n",
    "            \"tuple\":\"a type of data which can not be change\",\n",
    "            \"dictionarty\":\"a type of data in which key value pair can be stored\",\n",
    "             \"true\":\"if a condition is accurate or valid then python tells us that us is true\"\n",
    "            }\n",
    "for k,v in glossary.items():\n",
    "    print(\"\\n\",k,\"\\n    \",v)"
   ]
  },
  {
   "cell_type": "markdown",
   "metadata": {},
   "source": [
    "# chapter finished"
   ]
  }
 ],
 "metadata": {
  "kernelspec": {
   "display_name": "Python 3",
   "language": "python",
   "name": "python3"
  },
  "language_info": {
   "codemirror_mode": {
    "name": "ipython",
    "version": 3
   },
   "file_extension": ".py",
   "mimetype": "text/x-python",
   "name": "python",
   "nbconvert_exporter": "python",
   "pygments_lexer": "ipython3",
   "version": "3.7.6"
  }
 },
 "nbformat": 4,
 "nbformat_minor": 4
}
