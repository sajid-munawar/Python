{
 "cells": [
  {
   "cell_type": "code",
   "execution_count": 1,
   "metadata": {},
   "outputs": [
    {
     "name": "stdout",
     "output_type": "stream",
     "text": [
      "a = 44 and b = 66\n",
      "a = 66 and b = 44\n"
     ]
    }
   ],
   "source": [
    "a=44\n",
    "b=66\n",
    "print(f\"a = {a} and b = {b}\" )\n",
    "a=a+b  #100\n",
    "b=a-b  #100-66 = 44\n",
    "a=a-b  #100-44 = 66\n",
    "print(f\"a = {a} and b = {b}\" )"
   ]
  },
  {
   "cell_type": "code",
   "execution_count": null,
   "metadata": {},
   "outputs": [],
   "source": []
  }
 ],
 "metadata": {
  "kernelspec": {
   "display_name": "Python 3",
   "language": "python",
   "name": "python3"
  },
  "language_info": {
   "codemirror_mode": {
    "name": "ipython",
    "version": 3
   },
   "file_extension": ".py",
   "mimetype": "text/x-python",
   "name": "python",
   "nbconvert_exporter": "python",
   "pygments_lexer": "ipython3",
   "version": "3.8.5"
  }
 },
 "nbformat": 4,
 "nbformat_minor": 4
}
