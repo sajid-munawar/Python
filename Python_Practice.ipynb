{
  "nbformat": 4,
  "nbformat_minor": 0,
  "metadata": {
    "colab": {
      "name": "Python Practice.ipynb",
      "provenance": [],
      "authorship_tag": "ABX9TyNpX9NXeJZa3/CJdc7f1LCe",
      "include_colab_link": true
    },
    "kernelspec": {
      "name": "python3",
      "display_name": "Python 3"
    },
    "language_info": {
      "name": "python"
    }
  },
  "cells": [
    {
      "cell_type": "markdown",
      "metadata": {
        "id": "view-in-github",
        "colab_type": "text"
      },
      "source": [
        "<a href=\"https://colab.research.google.com/github/sajid-munawar/Python/blob/master/Python_Practice.ipynb\" target=\"_parent\"><img src=\"https://colab.research.google.com/assets/colab-badge.svg\" alt=\"Open In Colab\"/></a>"
      ]
    },
    {
      "cell_type": "code",
      "source": [
        "name='Ali'\n",
        "print('name ={:>6}'.format(name))"
      ],
      "metadata": {
        "colab": {
          "base_uri": "https://localhost:8080/"
        },
        "id": "TCZ-r9u0IHjA",
        "outputId": "8fb01711-a9c5-4b6f-df41-bdc66df361b7"
      },
      "execution_count": 28,
      "outputs": [
        {
          "output_type": "stream",
          "name": "stdout",
          "text": [
            "name =   Ali\n"
          ]
        }
      ]
    },
    {
      "cell_type": "code",
      "source": [
        "i=9\n",
        "name='Ali'\n",
        "print('name ={:>{}}'.format(name,i))"
      ],
      "metadata": {
        "colab": {
          "base_uri": "https://localhost:8080/"
        },
        "id": "TmIcERH3GYAq",
        "outputId": "294d7223-4893-4307-f28b-07557969bf16"
      },
      "execution_count": 19,
      "outputs": [
        {
          "output_type": "stream",
          "name": "stdout",
          "text": [
            "name =      Ali\n"
          ]
        }
      ]
    },
    {
      "cell_type": "code",
      "source": [
        "for i in range(10):\n",
        "  name='Ali'\n",
        "  print('name ={:>{}}'.format(name,i))"
      ],
      "metadata": {
        "colab": {
          "base_uri": "https://localhost:8080/"
        },
        "id": "u7RPb4J_GXZ-",
        "outputId": "4e3da2c7-3ce0-42c8-8352-ea185fd4be06"
      },
      "execution_count": 27,
      "outputs": [
        {
          "output_type": "stream",
          "name": "stdout",
          "text": [
            "name =Ali\n",
            "name =Ali\n",
            "name =Ali\n",
            "name =Ali\n",
            "name = Ali\n",
            "name =  Ali\n",
            "name =   Ali\n",
            "name =    Ali\n",
            "name =     Ali\n",
            "name =      Ali\n"
          ]
        }
      ]
    },
    {
      "cell_type": "code",
      "source": [
        "i=9\n",
        "name='Ali'\n",
        "print('name ={:>{}}'.format(name,4))"
      ],
      "metadata": {
        "colab": {
          "base_uri": "https://localhost:8080/"
        },
        "id": "B8624U48GXQl",
        "outputId": "906a40ca-68d6-41f6-9512-7b01796b5be9"
      },
      "execution_count": 24,
      "outputs": [
        {
          "output_type": "stream",
          "name": "stdout",
          "text": [
            "name = Ali\n"
          ]
        }
      ]
    },
    {
      "cell_type": "code",
      "source": [
        "num=4.5234234242421\n",
        "print('num={}'.format(num))"
      ],
      "metadata": {
        "colab": {
          "base_uri": "https://localhost:8080/"
        },
        "id": "vt9RMFdhIi3c",
        "outputId": "1d413de1-73b3-47d4-c944-4edea6ad9d6b"
      },
      "execution_count": 29,
      "outputs": [
        {
          "output_type": "stream",
          "name": "stdout",
          "text": [
            "num=4.5234234242421\n"
          ]
        }
      ]
    },
    {
      "cell_type": "code",
      "source": [
        "num=4.5234234242421\n",
        "print('num={:.2f}'.format(num))"
      ],
      "metadata": {
        "colab": {
          "base_uri": "https://localhost:8080/"
        },
        "id": "yZqlFyLRIiqg",
        "outputId": "60b07650-d98e-49e7-d9ca-21e2a20cbdf3"
      },
      "execution_count": 30,
      "outputs": [
        {
          "output_type": "stream",
          "name": "stdout",
          "text": [
            "num=4.52\n"
          ]
        }
      ]
    },
    {
      "cell_type": "code",
      "source": [
        "num=4.5234234242421\n",
        "print('num={:>8.2f}'.format(num))"
      ],
      "metadata": {
        "colab": {
          "base_uri": "https://localhost:8080/"
        },
        "id": "eBrCcyGkIijZ",
        "outputId": "61e79a70-0241-4607-eed7-1728478e35ac"
      },
      "execution_count": 32,
      "outputs": [
        {
          "output_type": "stream",
          "name": "stdout",
          "text": [
            "num=    4.52\n"
          ]
        }
      ]
    },
    {
      "cell_type": "markdown",
      "source": [
        "String Reference Cheat Sheet\n",
        "String Reference Cheat Sheet\n",
        "In Python, there are a lot of things you can do with strings. In this cheat sheet, you’ll find the most common string operations and string methods.\n",
        "\n",
        "String operations\n",
        "len(string) Returns the length of the string\n",
        "\n",
        "for character in string Iterates over each character in the string\n",
        "\n",
        "if substring in string Checks whether the substring is part of the string\n",
        "\n",
        "string[i] Accesses the character at index i of the string, starting at zero\n",
        "\n",
        "string[i:j] Accesses the substring starting at index i, ending at index j-1. If i is omitted, it's 0 by default. If j is omitted, it's len(string) by default.\n",
        "\n",
        "String methods\n",
        "string.lower() / string.upper() Returns a copy of the string with all lower / upper case characters\n",
        "\n",
        "string.lstrip() / string.rstrip() / string.strip() Returns a copy of the string without left / right / left or right whitespace\n",
        "\n",
        "string.count(substring) Returns the number of times substring is present in the string\n",
        "\n",
        "string.isnumeric() Returns True if there are only numeric characters in the string. If not, returns False.\n",
        "\n",
        "string.isalpha() Returns True if there are only alphabetic characters in the string. If not, returns False.\n",
        "\n",
        "string.split() / string.split(delimiter) Returns a list of substrings that were separated by whitespace / delimiter\n",
        "\n",
        "string.replace(old, new) Returns a new string where all occurrences of old have been replaced by new.\n",
        "\n",
        "delimiter.join(list of strings) Returns a new string with all the strings joined by the delimiter "
      ],
      "metadata": {
        "id": "gzB6PaK_IiYX"
      }
    },
    {
      "cell_type": "code",
      "source": [
        ""
      ],
      "metadata": {
        "id": "dfPLyvR9IiR1"
      },
      "execution_count": null,
      "outputs": []
    },
    {
      "cell_type": "code",
      "source": [
        ""
      ],
      "metadata": {
        "id": "4jkA7hpyIiMC"
      },
      "execution_count": null,
      "outputs": []
    },
    {
      "cell_type": "code",
      "source": [
        ""
      ],
      "metadata": {
        "id": "X2_6jgvhIiEh"
      },
      "execution_count": null,
      "outputs": []
    },
    {
      "cell_type": "code",
      "source": [
        ""
      ],
      "metadata": {
        "id": "A3omck69Ih8s"
      },
      "execution_count": null,
      "outputs": []
    },
    {
      "cell_type": "code",
      "source": [
        "a"
      ],
      "metadata": {
        "id": "pBS0rENGIhks"
      },
      "execution_count": null,
      "outputs": []
    },
    {
      "cell_type": "code",
      "source": [
        ""
      ],
      "metadata": {
        "id": "ZCfJyMulIhcr"
      },
      "execution_count": null,
      "outputs": []
    },
    {
      "cell_type": "code",
      "source": [
        ""
      ],
      "metadata": {
        "id": "JBjxgk9zIhVO"
      },
      "execution_count": null,
      "outputs": []
    },
    {
      "cell_type": "code",
      "source": [
        ""
      ],
      "metadata": {
        "id": "y2P2D8SpGXKK"
      },
      "execution_count": null,
      "outputs": []
    },
    {
      "cell_type": "code",
      "source": [
        ""
      ],
      "metadata": {
        "id": "x5D2tZBAGWgj"
      },
      "execution_count": null,
      "outputs": []
    },
    {
      "cell_type": "code",
      "source": [
        "!pip install pytube\n",
        "from pytube import YouTube"
      ],
      "metadata": {
        "colab": {
          "base_uri": "https://localhost:8080/"
        },
        "id": "1VxU1LJNV2c0",
        "outputId": "713166d3-619c-4829-c0fd-5c8ce9e4a19c"
      },
      "execution_count": null,
      "outputs": [
        {
          "output_type": "stream",
          "name": "stdout",
          "text": [
            "Collecting pytube\n",
            "  Downloading pytube-11.0.2-py3-none-any.whl (56 kB)\n",
            "\u001b[?25l\r\u001b[K     |█████▉                          | 10 kB 21.5 MB/s eta 0:00:01\r\u001b[K     |███████████▋                    | 20 kB 28.3 MB/s eta 0:00:01\r\u001b[K     |█████████████████▌              | 30 kB 13.3 MB/s eta 0:00:01\r\u001b[K     |███████████████████████▎        | 40 kB 10.1 MB/s eta 0:00:01\r\u001b[K     |█████████████████████████████▏  | 51 kB 4.4 MB/s eta 0:00:01\r\u001b[K     |████████████████████████████████| 56 kB 2.1 MB/s \n",
            "\u001b[?25hInstalling collected packages: pytube\n",
            "Successfully installed pytube-11.0.2\n"
          ]
        }
      ]
    },
    {
      "cell_type": "code",
      "source": [
        ""
      ],
      "metadata": {
        "id": "yB82XwhgWQSD"
      },
      "execution_count": null,
      "outputs": []
    },
    {
      "cell_type": "code",
      "source": [
        ""
      ],
      "metadata": {
        "id": "kP6fdSAKWQMw"
      },
      "execution_count": null,
      "outputs": []
    },
    {
      "cell_type": "code",
      "source": [
        ""
      ],
      "metadata": {
        "id": "a-2H2K-cWQHG"
      },
      "execution_count": null,
      "outputs": []
    },
    {
      "cell_type": "code",
      "source": [
        ""
      ],
      "metadata": {
        "id": "RxPK_a31WQAl"
      },
      "execution_count": null,
      "outputs": []
    },
    {
      "cell_type": "code",
      "source": [
        ""
      ],
      "metadata": {
        "id": "MqYoMd9cWPOs"
      },
      "execution_count": null,
      "outputs": []
    },
    {
      "cell_type": "code",
      "source": [
        "Program runs –\n",
        "Starts with numbered menu prompt: Example\n",
        "    1. Input Redirect File\n",
        "    2. Input URL File\n",
        "    3. Input Code File\n",
        "    4. Exit\n",
        "When all 3 files are input, the program will run.\n",
        "\n",
        "\n",
        "The program will take this input, then create the following\n",
        "\n",
        "URL + Code -EXAMPLES\n",
        "\n",
        "Input: - http://aiaccept.com/   Cash App \t8c66545\n",
        "Output - http://aiaccept.com/8c66545\n",
        "\n",
        "Output File name will be Cash App. Each URL in the input file will have the code appended to the end of the URL and added to this file.\n",
        "This process will be repeated for all codes\n",
        "\n",
        "All Filles will be placed in the output folder\n",
        "\n",
        "Next – \n",
        "The program will combine the \n",
        "Redirect + URL WITH CODE -EXAMPLES\n",
        "Input -\n",
        "http://ad.dyntracker.de/set.aspx?dt_subid1=&dt_subid2=&dt_keywords=&dt_freetext=&dt_url=  \n",
        "And\n",
        "http://aiaccept.com/8c66545\n",
        "\n",
        "\n",
        "Output-\n",
        "http://ad.dyntracker.de/set.aspx?dt_subid1=&dt_subid2=&dt_keywords=&dt_freetext=&dt_url=http://aiaccept.com/8c66545\n",
        "\n",
        "Each URL with code in each file will be processed for each redirect and saved in the output folder with the name Redirect-Name-from-input-file\n",
        "\n",
        "Desired output will be 2 files for each input url\n",
        "\n",
        "    1. Link with code (Example: http://aiaccept.com/8c66545\n",
        "\n",
        "    2. Redirect link with url and code (example: http://ad.dyntracker.de/set.aspx?dt_subid1=&dt_subid2=&dt_keywords=&dt_freetext=&dt_url=http://aiaccept.com/8c66545 )"
      ],
      "metadata": {
        "id": "iXv2jc_PEP74"
      },
      "execution_count": null,
      "outputs": []
    },
    {
      "cell_type": "code",
      "source": [
        "import pandas as pd"
      ],
      "metadata": {
        "id": "KkpIR8vwFgyB"
      },
      "execution_count": null,
      "outputs": []
    },
    {
      "cell_type": "code",
      "source": [
        "df=pd.read"
      ],
      "metadata": {
        "id": "xQS3qGxUFi9y"
      },
      "execution_count": null,
      "outputs": []
    }
  ]
}