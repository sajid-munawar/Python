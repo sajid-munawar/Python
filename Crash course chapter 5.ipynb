{
 "cells": [
  {
   "cell_type": "markdown",
   "metadata": {},
   "source": [
    "# if Statements"
   ]
  },
  {
   "cell_type": "code",
   "execution_count": 1,
   "metadata": {},
   "outputs": [
    {
     "data": {
      "text/plain": [
       "True"
      ]
     },
     "execution_count": 1,
     "metadata": {},
     "output_type": "execute_result"
    }
   ],
   "source": [
    "# Checking for Equality\n",
    "car = 'bmw'\n",
    "car == 'bmw'"
   ]
  },
  {
   "cell_type": "code",
   "execution_count": 2,
   "metadata": {},
   "outputs": [
    {
     "data": {
      "text/plain": [
       "False"
      ]
     },
     "execution_count": 2,
     "metadata": {},
     "output_type": "execute_result"
    }
   ],
   "source": [
    "car = 'audi'\n",
    "car == 'bmw'"
   ]
  },
  {
   "cell_type": "code",
   "execution_count": 3,
   "metadata": {},
   "outputs": [
    {
     "data": {
      "text/plain": [
       "False"
      ]
     },
     "execution_count": 3,
     "metadata": {},
     "output_type": "execute_result"
    }
   ],
   "source": [
    "# case sentivity\n",
    "car = 'Audi'\n",
    "car == 'audi'"
   ]
  },
  {
   "cell_type": "code",
   "execution_count": 4,
   "metadata": {},
   "outputs": [
    {
     "data": {
      "text/plain": [
       "False"
      ]
     },
     "execution_count": 4,
     "metadata": {},
     "output_type": "execute_result"
    }
   ],
   "source": [
    "# Using and to Check Multiple Conditions\n",
    "age_0 = 22\n",
    "age_1 = 18\n",
    "age_0 <= 21 and age_1 <= 21    #if one condition is false so"
   ]
  },
  {
   "cell_type": "code",
   "execution_count": 5,
   "metadata": {},
   "outputs": [
    {
     "data": {
      "text/plain": [
       "True"
      ]
     },
     "execution_count": 5,
     "metadata": {},
     "output_type": "execute_result"
    }
   ],
   "source": [
    "age_0 >= 21 and age_1 <= 21    #if both conditions are true so"
   ]
  },
  {
   "cell_type": "code",
   "execution_count": 6,
   "metadata": {},
   "outputs": [
    {
     "data": {
      "text/plain": [
       "True"
      ]
     },
     "execution_count": 6,
     "metadata": {},
     "output_type": "execute_result"
    }
   ],
   "source": [
    "# Using or to Check Multiple Conditions\n",
    "age_1 =10\n",
    "age_2 = 20\n",
    "age_1 <=15 or age_2 >=15    # if both conditions are true so #true"
   ]
  },
  {
   "cell_type": "code",
   "execution_count": 7,
   "metadata": {},
   "outputs": [
    {
     "data": {
      "text/plain": [
       "True"
      ]
     },
     "execution_count": 7,
     "metadata": {},
     "output_type": "execute_result"
    }
   ],
   "source": [
    "age_1 >= 20 or age_2 <=22   #if first condition is false and second true #true"
   ]
  },
  {
   "cell_type": "code",
   "execution_count": 8,
   "metadata": {},
   "outputs": [
    {
     "data": {
      "text/plain": [
       "False"
      ]
     },
     "execution_count": 8,
     "metadata": {},
     "output_type": "execute_result"
    }
   ],
   "source": [
    "age_1 >= 20 or age_2 >=22     #both conditions are false so"
   ]
  },
  {
   "cell_type": "code",
   "execution_count": 9,
   "metadata": {},
   "outputs": [
    {
     "data": {
      "text/plain": [
       "True"
      ]
     },
     "execution_count": 9,
     "metadata": {},
     "output_type": "execute_result"
    }
   ],
   "source": [
    "age_1 =10\n",
    "age_2 = 20       #if first condition is true and second false #true\n",
    "age_1 <=15 or age_2 <=15"
   ]
  },
  {
   "cell_type": "code",
   "execution_count": 10,
   "metadata": {},
   "outputs": [
    {
     "name": "stdout",
     "output_type": "stream",
     "text": [
      "Marie, you can post a response if you wish.\n"
     ]
    }
   ],
   "source": [
    "# Checking Whether a Value Is Not in a List\n",
    "banned_users = ['andrew', 'carolina', 'david']\n",
    "user = 'marie'\n",
    "if user not in banned_users:\n",
    "    print(f\"{user.title()}, you can post a response if you wish.\")"
   ]
  },
  {
   "cell_type": "markdown",
   "metadata": {},
   "source": [
    "5-1. Conditional Tests:"
   ]
  },
  {
   "cell_type": "code",
   "execution_count": 11,
   "metadata": {},
   "outputs": [
    {
     "name": "stdout",
     "output_type": "stream",
     "text": [
      "Is car == 'subaru'? I predict True.\n",
      "True\n"
     ]
    }
   ],
   "source": [
    "car = 'subaru'\n",
    "car==\"subaru\"\n",
    "print(\"Is car == 'subaru'? I predict True.\")\n",
    "print(car == 'subaru')"
   ]
  },
  {
   "cell_type": "code",
   "execution_count": 12,
   "metadata": {},
   "outputs": [
    {
     "name": "stdout",
     "output_type": "stream",
     "text": [
      "\n",
      "Is car == 'audi'? I predict False.\n",
      "False\n"
     ]
    }
   ],
   "source": [
    "print(\"\\nIs car == 'audi'? I predict False.\")\n",
    "print(car == 'audi')"
   ]
  },
  {
   "cell_type": "code",
   "execution_count": 13,
   "metadata": {},
   "outputs": [
    {
     "data": {
      "text/plain": [
       "True"
      ]
     },
     "execution_count": 13,
     "metadata": {},
     "output_type": "execute_result"
    }
   ],
   "source": [
    "# 1st\n",
    "age=20\n",
    "age==20"
   ]
  },
  {
   "cell_type": "code",
   "execution_count": 14,
   "metadata": {},
   "outputs": [
    {
     "data": {
      "text/plain": [
       "False"
      ]
     },
     "execution_count": 14,
     "metadata": {},
     "output_type": "execute_result"
    }
   ],
   "source": [
    "# 2nd\n",
    "age==19"
   ]
  },
  {
   "cell_type": "code",
   "execution_count": 15,
   "metadata": {},
   "outputs": [
    {
     "data": {
      "text/plain": [
       "True"
      ]
     },
     "execution_count": 15,
     "metadata": {},
     "output_type": "execute_result"
    }
   ],
   "source": [
    "# 3rd\n",
    "age=20\n",
    "age<=21"
   ]
  },
  {
   "cell_type": "code",
   "execution_count": 16,
   "metadata": {},
   "outputs": [
    {
     "data": {
      "text/plain": [
       "False"
      ]
     },
     "execution_count": 16,
     "metadata": {},
     "output_type": "execute_result"
    }
   ],
   "source": [
    "# 4th\n",
    "age>=21"
   ]
  },
  {
   "cell_type": "code",
   "execution_count": 17,
   "metadata": {},
   "outputs": [
    {
     "name": "stdout",
     "output_type": "stream",
     "text": [
      "Congratulation ! Sajid\n"
     ]
    }
   ],
   "source": [
    "# 5th\n",
    "name=\"sajid\"\n",
    "if name==\"sajid\":\n",
    "    print(f\"Congratulation ! {name.title()}\")"
   ]
  },
  {
   "cell_type": "markdown",
   "metadata": {},
   "source": [
    "5-2. More Conditional Tests"
   ]
  },
  {
   "cell_type": "code",
   "execution_count": 18,
   "metadata": {},
   "outputs": [
    {
     "data": {
      "text/plain": [
       "True"
      ]
     },
     "execution_count": 18,
     "metadata": {},
     "output_type": "execute_result"
    }
   ],
   "source": [
    "# Tests for equality and inequality with strings\n",
    "string=\"Horse\"\n",
    "string==\"Horse\""
   ]
  },
  {
   "cell_type": "code",
   "execution_count": 19,
   "metadata": {},
   "outputs": [
    {
     "data": {
      "text/plain": [
       "False"
      ]
     },
     "execution_count": 19,
     "metadata": {},
     "output_type": "execute_result"
    }
   ],
   "source": [
    "string==\"Lion\""
   ]
  },
  {
   "cell_type": "code",
   "execution_count": 20,
   "metadata": {},
   "outputs": [
    {
     "data": {
      "text/plain": [
       "True"
      ]
     },
     "execution_count": 20,
     "metadata": {},
     "output_type": "execute_result"
    }
   ],
   "source": [
    "# Tests using the lower() method\n",
    "name=\"Sajid\"\n",
    "name.lower()==\"sajid\""
   ]
  },
  {
   "cell_type": "code",
   "execution_count": 21,
   "metadata": {},
   "outputs": [
    {
     "data": {
      "text/plain": [
       "True"
      ]
     },
     "execution_count": 21,
     "metadata": {},
     "output_type": "execute_result"
    }
   ],
   "source": [
    "# Numerical tests involving equality and inequality, greater than and\n",
    "# less than, greater than or equal to, and less than or equal to\n",
    "age=20\n",
    "age>=18"
   ]
  },
  {
   "cell_type": "code",
   "execution_count": 22,
   "metadata": {},
   "outputs": [
    {
     "data": {
      "text/plain": [
       "False"
      ]
     },
     "execution_count": 22,
     "metadata": {},
     "output_type": "execute_result"
    }
   ],
   "source": [
    "age<=19"
   ]
  },
  {
   "cell_type": "code",
   "execution_count": 23,
   "metadata": {},
   "outputs": [
    {
     "data": {
      "text/plain": [
       "True"
      ]
     },
     "execution_count": 23,
     "metadata": {},
     "output_type": "execute_result"
    }
   ],
   "source": [
    "age==20"
   ]
  },
  {
   "cell_type": "code",
   "execution_count": 24,
   "metadata": {},
   "outputs": [],
   "source": [
    "# Tests using the and keyword and the or keyword\n",
    "# I have done this above already "
   ]
  },
  {
   "cell_type": "code",
   "execution_count": 25,
   "metadata": {},
   "outputs": [
    {
     "name": "stdout",
     "output_type": "stream",
     "text": [
      "valid\n"
     ]
    }
   ],
   "source": [
    "# Test whether an item is in a list\n",
    "alist=[\"sajid\",\"ali\",\"asad\"]\n",
    "if \"sajid\" in alist:\n",
    "    print(\"valid\")"
   ]
  },
  {
   "cell_type": "code",
   "execution_count": 26,
   "metadata": {},
   "outputs": [
    {
     "name": "stdout",
     "output_type": "stream",
     "text": [
      "invalid\n"
     ]
    }
   ],
   "source": [
    "# Test whether an item is not in a list\n",
    "if \"usman\" in alist:\n",
    "    print(\"valid\")\n",
    "else:\n",
    "        print(\"invalid\")"
   ]
  },
  {
   "cell_type": "code",
   "execution_count": 4,
   "metadata": {},
   "outputs": [
    {
     "name": "stdout",
     "output_type": "stream",
     "text": [
      "23\n",
      "Your admission cost is $40.\n"
     ]
    }
   ],
   "source": [
    "age = int(input())\n",
    "if age < 4:\n",
    "    price = 0\n",
    "elif age < 18:\n",
    "    price = 25\n",
    "elif age < 65:\n",
    "    price = 40\n",
    "elif age >= 65:\n",
    "    price = 20\n",
    "print(f\"Your admission cost is ${price}.\")"
   ]
  },
  {
   "cell_type": "markdown",
   "metadata": {},
   "source": [
    "5-3. Alien Colors #1:"
   ]
  },
  {
   "cell_type": "code",
   "execution_count": 5,
   "metadata": {},
   "outputs": [
    {
     "name": "stdout",
     "output_type": "stream",
     "text": [
      "player just earned 5 points\n"
     ]
    }
   ],
   "source": [
    "alien_color = 'green'\n",
    "if alien_color==\"green\":\n",
    "    print(\"player just earned 5 points\")"
   ]
  },
  {
   "cell_type": "markdown",
   "metadata": {},
   "source": [
    "5-4. Alien Colors #2:"
   ]
  },
  {
   "cell_type": "code",
   "execution_count": 6,
   "metadata": {},
   "outputs": [
    {
     "name": "stdout",
     "output_type": "stream",
     "text": [
      "player just earned 5 points\n"
     ]
    }
   ],
   "source": [
    "# program that runs the if block\n",
    "alien_color = 'green'\n",
    "if alien_color==\"green\":\n",
    "    print(\"player just earned 5 points\")\n",
    "elif alien_color == 'yellow':\n",
    "    print(\"player just earned 10 points\")"
   ]
  },
  {
   "cell_type": "code",
   "execution_count": 7,
   "metadata": {},
   "outputs": [
    {
     "name": "stdout",
     "output_type": "stream",
     "text": [
      "player just earned 10 points\n"
     ]
    }
   ],
   "source": [
    "# runs the else block\n",
    "alien_color = 'yellow'\n",
    "if alien_color==\"green\":\n",
    "    print(\"player just earned 5 points\")\n",
    "elif alien_color == 'yellow':\n",
    "    print(\"player just earned 10 points\")"
   ]
  },
  {
   "cell_type": "markdown",
   "metadata": {},
   "source": [
    "Alien Colors #3"
   ]
  },
  {
   "cell_type": "code",
   "execution_count": 8,
   "metadata": {},
   "outputs": [
    {
     "name": "stdout",
     "output_type": "stream",
     "text": [
      "player just earned 5 points\n"
     ]
    }
   ],
   "source": [
    "# Write three versions of this program\n",
    "# 1st version\n",
    "alien_color = 'green'\n",
    "if alien_color==\"green\":\n",
    "    print(\"player just earned 5 points\")\n",
    "elif alien_color == 'yellow':\n",
    "    print(\"player just earned 10 points\")\n",
    "elif alien_color == 'red':\n",
    "    print(\"player just earned 15 points\")"
   ]
  },
  {
   "cell_type": "code",
   "execution_count": 9,
   "metadata": {},
   "outputs": [
    {
     "name": "stdout",
     "output_type": "stream",
     "text": [
      "player just earned 10 points\n"
     ]
    }
   ],
   "source": [
    "# 2st version\n",
    "alien_color = 'yellow'\n",
    "if alien_color==\"green\":\n",
    "    print(\"player just earned 5 points\")\n",
    "elif alien_color == 'yellow':\n",
    "    print(\"player just earned 10 points\")\n",
    "elif alien_color == 'red':\n",
    "    print(\"player just earned 15 points\")"
   ]
  },
  {
   "cell_type": "code",
   "execution_count": 10,
   "metadata": {},
   "outputs": [
    {
     "name": "stdout",
     "output_type": "stream",
     "text": [
      "player just earned 15 points\n"
     ]
    }
   ],
   "source": [
    "# 3rd version\n",
    "alien_color ='red'\n",
    "if alien_color==\"green\":\n",
    "    print(\"player just earned 5 points\")\n",
    "elif alien_color == 'yellow':\n",
    "    print(\"player just earned 10 points\")\n",
    "elif alien_color == 'red':\n",
    "    print(\"player just earned 15 points\")"
   ]
  },
  {
   "cell_type": "markdown",
   "metadata": {},
   "source": [
    "5-6. Stages of Life"
   ]
  },
  {
   "cell_type": "code",
   "execution_count": 1,
   "metadata": {},
   "outputs": [
    {
     "name": "stdout",
     "output_type": "stream",
     "text": [
      "23\n",
      "The person is a adult.\n"
     ]
    }
   ],
   "source": [
    "age_1 = int(input())\n",
    "if age_1 < 2:\n",
    "    print(\"The person is a baby.\")\n",
    "if age_1 ==4 and age_1<13:\n",
    "    print(\"The person is a kid.\")\n",
    "elif age_1 >=13 and age_1<20:\n",
    "    print(\"The person is a teenager.\")\n",
    "elif age_1 >=20 and age_1<65:\n",
    "    print(\"The person is a adult.\")\n",
    "elif age_1>=65:\n",
    "    print(\"The person is a adult.\")"
   ]
  },
  {
   "cell_type": "markdown",
   "metadata": {},
   "source": [
    "5-7. Favorite Fruit"
   ]
  },
  {
   "cell_type": "code",
   "execution_count": 2,
   "metadata": {},
   "outputs": [
    {
     "name": "stdout",
     "output_type": "stream",
     "text": [
      "You really like mangoes!\n",
      "You really like apple!\n",
      "You really like strabury!\n"
     ]
    }
   ],
   "source": [
    "# Make a list of your three favorite fruits and call it favorite_fruits.\n",
    "favourite_fruits = [\"mango\",\"apple\",\"strabury\"]\n",
    "# Write five if statements\n",
    "if \"mango\" in favourite_fruits:        #first statement\n",
    "    print(\"You really like mangoes!\")\n",
    "if \"apple\" in favourite_fruits:        #second statement \n",
    "    print(\"You really like apple!\")\n",
    "if \"strabury\" in favourite_fruits:        #third statement    \n",
    "    print(\"You really like strabury!\")\n",
    "if \"banana\" in favourite_fruits:        #fourth statement\n",
    "    print(\"You really like bananas!\")\n",
    "if \"grapes\" in favourite_fruits:        # fifth statement   \n",
    "    print(\"You really like grapes!\")"
   ]
  },
  {
   "cell_type": "raw",
   "metadata": {},
   "source": [
    "Checking for Special Items in list"
   ]
  },
  {
   "cell_type": "code",
   "execution_count": 3,
   "metadata": {},
   "outputs": [
    {
     "name": "stdout",
     "output_type": "stream",
     "text": [
      "Adding mushrooms.\n",
      "Sorry, we are out of green peppers right now.\n",
      "Adding extra cheese.\n",
      "\n",
      "Finished making your pizza!\n"
     ]
    }
   ],
   "source": [
    "requested_toppings = ['mushrooms', 'green peppers', 'extra cheese']\n",
    "for requested_topping in requested_toppings:\n",
    "    if requested_topping == 'green peppers':\n",
    "        print(\"Sorry, we are out of green peppers right now.\")\n",
    "    else:\n",
    "        print(f\"Adding {requested_topping}.\")\n",
    "print(\"\\nFinished making your pizza!\")"
   ]
  },
  {
   "cell_type": "markdown",
   "metadata": {},
   "source": [
    "5-8. Hello Admin"
   ]
  },
  {
   "cell_type": "code",
   "execution_count": 4,
   "metadata": {},
   "outputs": [
    {
     "name": "stdout",
     "output_type": "stream",
     "text": [
      "Hello ali, thank you for logging in again.\n",
      "Hello sajid, thank you for logging in again.\n",
      "Hello admin,would you like to see a status report?\n",
      "Hello asad, thank you for logging in again.\n",
      "Hello umar, thank you for logging in again.\n"
     ]
    }
   ],
   "source": [
    "names=[\"ali\",\"sajid\",\"admin\",\"asad\",\"umar\"]\n",
    "for name in names:\n",
    "    if name==\"admin\":\n",
    "        print(\"Hello admin,would you like to see a status report?\")\n",
    "    else:\n",
    "        print(f\"Hello {name}, thank you for logging in again.\")"
   ]
  },
  {
   "cell_type": "code",
   "execution_count": 7,
   "metadata": {},
   "outputs": [
    {
     "name": "stdout",
     "output_type": "stream",
     "text": [
      "[]\n"
     ]
    }
   ],
   "source": [
    "for a in names:\n",
    "    names.pop()\n",
    "print(names)"
   ]
  },
  {
   "cell_type": "code",
   "execution_count": 8,
   "metadata": {},
   "outputs": [
    {
     "name": "stdout",
     "output_type": "stream",
     "text": [
      "We need to find some users!\n"
     ]
    }
   ],
   "source": [
    "for name in names:        # If the list is empty\n",
    "    if name==\"admin\":\n",
    "        print(\"Hello admin,would you like to see a status report?\")\n",
    "    else:\n",
    "        print(f\"Hello {name}, thank you for logging in again.\")\n",
    "print(\"We need to find some users!\")"
   ]
  },
  {
   "cell_type": "markdown",
   "metadata": {},
   "source": [
    "5-10. Checking Usernames"
   ]
  },
  {
   "cell_type": "code",
   "execution_count": 9,
   "metadata": {},
   "outputs": [
    {
     "name": "stdout",
     "output_type": "stream",
     "text": [
      "ali will need to enter a new username\n",
      "sajid will need to enter a new username\n",
      "amin username is available\n",
      "iqbal username is available\n",
      "ikram username is available\n"
     ]
    }
   ],
   "source": [
    "current_users = [\"ali\",\"sajid\",\"admin\",\"asad\",\"umar\"]\n",
    "new_users  = [\"ali\",\"sajid\",\"amin\",\"iqbal\",\"ikram\"]\n",
    "for a in new_users:\n",
    "    if a in current_users:\n",
    "        print(f\"{a} will need to enter a new username\")\n",
    "    else:\n",
    "        print (a, \"username is available\")"
   ]
  },
  {
   "cell_type": "markdown",
   "metadata": {},
   "source": [
    "5-11. Ordinal Numbers"
   ]
  },
  {
   "cell_type": "code",
   "execution_count": 3,
   "metadata": {},
   "outputs": [
    {
     "name": "stdout",
     "output_type": "stream",
     "text": [
      "1st\n",
      "2nd\n",
      "3rd\n",
      "4th\n",
      "5th\n",
      "6th\n",
      "7th\n",
      "8th\n",
      "9th\n"
     ]
    }
   ],
   "source": [
    "numbers=list(range(1,10))\n",
    "for num in numbers:\n",
    "    if num==1:\n",
    "        print(\"1st\")\n",
    "    elif num==2:\n",
    "        print(\"2nd\")\n",
    "    elif num==3:\n",
    "        print(\"3rd\")\n",
    "    else:\n",
    "        print(f\"{num}th\")"
   ]
  },
  {
   "cell_type": "markdown",
   "metadata": {},
   "source": [
    "# chapter finished"
   ]
  }
 ],
 "metadata": {
  "kernelspec": {
   "display_name": "Python 3",
   "language": "python",
   "name": "python3"
  },
  "language_info": {
   "codemirror_mode": {
    "name": "ipython",
    "version": 3
   },
   "file_extension": ".py",
   "mimetype": "text/x-python",
   "name": "python",
   "nbconvert_exporter": "python",
   "pygments_lexer": "ipython3",
   "version": "3.7.6"
  }
 },
 "nbformat": 4,
 "nbformat_minor": 4
}
