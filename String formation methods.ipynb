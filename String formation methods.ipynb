{
 "cells": [
  {
   "cell_type": "raw",
   "metadata": {},
   "source": [
    "There are three methods of string formation\n",
    "  1- String concatenation using + sign\n",
    "  2- Dot format\n",
    "  3- Formation using F method"
   ]
  },
  {
   "cell_type": "code",
   "execution_count": 2,
   "metadata": {},
   "outputs": [],
   "source": [
    "name= \"Sajid\"\n",
    "fname= \"Munawar\"\n",
    "course= \"A.I\""
   ]
  },
  {
   "cell_type": "markdown",
   "metadata": {},
   "source": [
    "# String concatenation using + sign"
   ]
  },
  {
   "cell_type": "code",
   "execution_count": 3,
   "metadata": {},
   "outputs": [
    {
     "name": "stdout",
     "output_type": "stream",
     "text": [
      "My name is Sajid Munawar and course is A.I.\n"
     ]
    }
   ],
   "source": [
    "print( \"My name is \"+ name+\" \" +fname +\" and course is \" + course +\".\")"
   ]
  },
  {
   "cell_type": "markdown",
   "metadata": {},
   "source": [
    "# Dot format"
   ]
  },
  {
   "cell_type": "code",
   "execution_count": 4,
   "metadata": {},
   "outputs": [
    {
     "name": "stdout",
     "output_type": "stream",
     "text": [
      "My name is Sajid Munawar and course is A.I.\n"
     ]
    }
   ],
   "source": [
    "print(\"My name is {} {} and course is {}.\".format(name,fname,course))"
   ]
  },
  {
   "cell_type": "raw",
   "metadata": {},
   "source": [
    "use of index during dot formation"
   ]
  },
  {
   "cell_type": "code",
   "execution_count": 5,
   "metadata": {},
   "outputs": [
    {
     "name": "stdout",
     "output_type": "stream",
     "text": [
      "My name is Sajid Munawar and course is A.I.\n"
     ]
    }
   ],
   "source": [
    "print(\"My name is {2} {0} and course is {1}.\".format(fname,course,name))"
   ]
  },
  {
   "cell_type": "markdown",
   "metadata": {},
   "source": [
    "# Formation using F method"
   ]
  },
  {
   "cell_type": "code",
   "execution_count": 21,
   "metadata": {},
   "outputs": [
    {
     "name": "stdout",
     "output_type": "stream",
     "text": [
      "My name is Sajid Munawar and course is A.I.\n"
     ]
    }
   ],
   "source": [
    "print(f\"My name is {name} {fname} and course is {course}.\")"
   ]
  }
 ],
 "metadata": {
  "kernelspec": {
   "display_name": "Python 3",
   "language": "python",
   "name": "python3"
  },
  "language_info": {
   "codemirror_mode": {
    "name": "ipython",
    "version": 3
   },
   "file_extension": ".py",
   "mimetype": "text/x-python",
   "name": "python",
   "nbconvert_exporter": "python",
   "pygments_lexer": "ipython3",
   "version": "3.7.6"
  }
 },
 "nbformat": 4,
 "nbformat_minor": 4
}
