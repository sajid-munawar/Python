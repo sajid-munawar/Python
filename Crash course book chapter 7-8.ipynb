{
 "cells": [
  {
   "cell_type": "markdown",
   "metadata": {},
   "source": [
    "# 7 User Input and while Loops"
   ]
  },
  {
   "cell_type": "markdown",
   "metadata": {},
   "source": [
    "7-1. Rental Car: Write a program that asks the user what kind of rental car they\n",
    "would like. Print a message about that car, such as “Let me see if I can find you\n",
    "a Subaru.”"
   ]
  },
  {
   "cell_type": "code",
   "execution_count": 1,
   "metadata": {},
   "outputs": [
    {
     "name": "stdout",
     "output_type": "stream",
     "text": [
      "what kind of rental car they would like? subaru\n",
      " “Let me see if I can find you a subaru.” \n"
     ]
    }
   ],
   "source": [
    "demand = input (\"what kind of rental car they would like? \")\n",
    "print (f\" “Let me see if I can find you a {demand}.” \")"
   ]
  },
  {
   "cell_type": "markdown",
   "metadata": {},
   "source": [
    "7-2. Restaurant Seating: Write a program that asks the user how many people\n",
    "are in their dinner group. If the answer is more than eight, print a message saying\n",
    "they’ll have to wait for a table. Otherwise, report that their table is ready"
   ]
  },
  {
   "cell_type": "code",
   "execution_count": 1,
   "metadata": {},
   "outputs": [
    {
     "name": "stdout",
     "output_type": "stream",
     "text": [
      "How many people are in their dinner group? 9\n",
      "They'll have to wait for a table \n"
     ]
    }
   ],
   "source": [
    "a = int(input(\"How many people are in their dinner group? \"))\n",
    "if a >= 8:\n",
    "    print(\"They'll have to wait for a table \")\n",
    "else:\n",
    "    print(\"Table is ready\")"
   ]
  },
  {
   "cell_type": "markdown",
   "metadata": {},
   "source": [
    "7-3. Multiples of Ten: Ask the user for a number, and then report whether the\n",
    "number is a multiple of 10 or not."
   ]
  },
  {
   "cell_type": "code",
   "execution_count": 2,
   "metadata": {},
   "outputs": [
    {
     "name": "stdout",
     "output_type": "stream",
     "text": [
      " Put a number 35\n",
      "False\n"
     ]
    }
   ],
   "source": [
    "a = int(input(\" Put a number \"))\n",
    "if a %10==0:\n",
    "   print(\"True\")\n",
    "else:\n",
    "    print(\"False\")"
   ]
  },
  {
   "cell_type": "code",
   "execution_count": 2,
   "metadata": {},
   "outputs": [
    {
     "name": "stdout",
     "output_type": "stream",
     "text": [
      " Put a number 30\n",
      "True\n"
     ]
    }
   ],
   "source": [
    "a = int(input(\" Put a number \"))\n",
    "if a %10==0:\n",
    "   print(\"True\")\n",
    "else:\n",
    "    print(\"False\")"
   ]
  },
  {
   "cell_type": "markdown",
   "metadata": {},
   "source": [
    "7-4. Pizza Toppings: Write a loop that prompts the user to enter a series of\n",
    "pizza toppings until they enter a 'quit' value. As they enter each topping,\n",
    "print a message saying you’ll add that topping to their pizza."
   ]
  },
  {
   "cell_type": "code",
   "execution_count": 1,
   "metadata": {
    "scrolled": true
   },
   "outputs": [
    {
     "name": "stdout",
     "output_type": "stream",
     "text": [
      "Tell me your pizza toppingschese\n",
      "Tell me your pizza toppingsbutter\n",
      "Tell me your pizza toppingscrispy\n",
      "Tell me your pizza toppingsq\n",
      "your toppings are ['chese', 'butter', 'crispy']\n"
     ]
    }
   ],
   "source": [
    "\n",
    "b=[]\n",
    "while True:\n",
    "    toppings=input(\"Tell me your pizza toppings\")\n",
    "    if toppings==\"q\":\n",
    "        break\n",
    "    b.append(toppings)\n",
    "print(f\"your toppings are {b}\")"
   ]
  },
  {
   "cell_type": "code",
   "execution_count": 2,
   "metadata": {},
   "outputs": [
    {
     "name": "stdout",
     "output_type": "stream",
     "text": [
      " chese\n",
      " butter\n",
      " crispy\n",
      " spicy\n",
      " q\n",
      "Your pizza toppings are ['chese', 'butter', 'crispy', 'spicy']\n"
     ]
    }
   ],
   "source": [
    "flag=True\n",
    "b=[]\n",
    "while flag:\n",
    "    c=input(\" \")\n",
    "    if c==\"q\":\n",
    "        flag=False\n",
    "    else:\n",
    "        b.append(c)\n",
    "print(f\"Your pizza toppings are {b}\")"
   ]
  },
  {
   "cell_type": "code",
   "execution_count": 1,
   "metadata": {},
   "outputs": [
    {
     "name": "stdout",
     "output_type": "stream",
     "text": [
      "butter\n",
      "chese\n",
      "crispy\n",
      "spicy\n",
      "q\n",
      "Your pizza toppings are ['butter', 'chese', 'crispy', 'spicy', 'q']\n"
     ]
    }
   ],
   "source": [
    "d=[]\n",
    "toppings=\"\"\n",
    "while toppings!=\"q\":\n",
    "    toppings=input(\"\")\n",
    "    d.append(toppings)\n",
    "print((f\"Your pizza toppings are {d}\"))"
   ]
  },
  {
   "cell_type": "markdown",
   "metadata": {},
   "source": [
    "7-5. Movie Tickets: A movie theater charges different ticket prices depending on\n",
    "a person’s age. If a person is under the age of 3, the ticket is free; if they are\n",
    "between 3 and 12, the ticket is $10; and if they are over age 12, the ticket is\n",
    "$15. Write a loop in which you ask users their age, and then tell them the cost\n",
    "of their movie ticket."
   ]
  },
  {
   "cell_type": "code",
   "execution_count": 1,
   "metadata": {},
   "outputs": [
    {
     "name": "stdout",
     "output_type": "stream",
     "text": [
      "Enter your age 23\n",
      "Your ticket is 15\n"
     ]
    }
   ],
   "source": [
    "while True:\n",
    "    age=int(input(\"Enter your age \"))\n",
    "    if age<=3:\n",
    "        print(\"Your ticket is Free\")\n",
    "    elif age>3 and age<= 12:\n",
    "        print(\"Your ticket is 10\")\n",
    "    elif age >12:\n",
    "        print(\"Your ticket is 15\")\n",
    "        break"
   ]
  },
  {
   "cell_type": "code",
   "execution_count": 29,
   "metadata": {},
   "outputs": [
    {
     "name": "stdout",
     "output_type": "stream",
     "text": [
      "Enter your age 13\n",
      "Your ticket is 15\n"
     ]
    }
   ],
   "source": [
    "age=int(input(\"Enter your age \"))\n",
    "if age<=3:\n",
    "    print(\"Your ticket is Free\")\n",
    "elif age>3 and age<= 12:\n",
    "    print(\"Your ticket is 10\")\n",
    "elif age >12:\n",
    "    print(\"Your ticket is 15\")"
   ]
  },
  {
   "cell_type": "markdown",
   "metadata": {},
   "source": [
    "7.6 Use a break statement to exit the loop when the user enters a 'quit' value."
   ]
  },
  {
   "cell_type": "code",
   "execution_count": 5,
   "metadata": {},
   "outputs": [
    {
     "name": "stdout",
     "output_type": "stream",
     "text": [
      "1\n",
      "2\n",
      "3\n",
      "4\n",
      "5\n",
      "6\n",
      "7\n",
      "8\n",
      "9\n",
      "10\n",
      " above is a while loop\n"
     ]
    }
   ],
   "source": [
    "a = 0\n",
    "while a<10:\n",
    "    a+=1\n",
    "    print(a)\n",
    "    if a==10:\n",
    "        break\n",
    "print(\" above is a while loop\")"
   ]
  },
  {
   "cell_type": "code",
   "execution_count": 17,
   "metadata": {},
   "outputs": [
    {
     "name": "stdout",
     "output_type": "stream",
     "text": [
      "yh\n",
      "78\n",
      "6\n",
      "ghfj\n",
      "8\n",
      "w\n",
      " above is a while loop\n"
     ]
    }
   ],
   "source": [
    "a =True\n",
    "while a:\n",
    "    b=(input(\"\"))\n",
    "    if b==\"w\":\n",
    "        break\n",
    "print(\" above is a while loop\")"
   ]
  },
  {
   "cell_type": "code",
   "execution_count": 2,
   "metadata": {},
   "outputs": [
    {
     "name": "stdout",
     "output_type": "stream",
     "text": [
      "tr\n",
      "775\n",
      "88\n",
      "fdh\n",
      "w\n",
      "['tr', '775', '88', 'fdh', 'w']\n",
      " above is a while loop\n"
     ]
    }
   ],
   "source": [
    "a =True\n",
    "alist=[]\n",
    "while a:\n",
    "    b=(input(\"\"))\n",
    "    alist.append(b)\n",
    "    if b==\"w\":\n",
    "        break\n",
    "print(alist)\n",
    "print(\" above is a while loop\")"
   ]
  },
  {
   "cell_type": "code",
   "execution_count": 7,
   "metadata": {},
   "outputs": [
    {
     "name": "stdout",
     "output_type": "stream",
     "text": [
      "Verifying user: Raza\n",
      "Verifying user: Hamza\n",
      "Verifying user: Ali\n",
      "\n",
      "The following users have been confirmed:\n",
      "Raza\n",
      "Hamza\n",
      "Ali\n"
     ]
    }
   ],
   "source": [
    "unconfirmed_users=[\"Ali\",\"Hamza\",\"Raza\"]\n",
    "confirmed_users=[]\n",
    "while unconfirmed_users:\n",
    "    current_user=unconfirmed_users.pop()\n",
    "    print(f\"Verifying user: {current_user.title()}\")\n",
    "    confirmed_users.append(current_user)\n",
    "print(\"\\nThe following users have been confirmed:\")\n",
    "for confirmed_user in confirmed_users:\n",
    "    print(confirmed_user.title())"
   ]
  },
  {
   "cell_type": "code",
   "execution_count": 8,
   "metadata": {},
   "outputs": [
    {
     "name": "stdout",
     "output_type": "stream",
     "text": [
      "['dog', 'cat', 'dog', 'goldfish', 'cat', 'rabbit', 'cat']\n",
      "['dog', 'dog', 'goldfish', 'rabbit']\n"
     ]
    }
   ],
   "source": [
    "pets = ['dog', 'cat', 'dog', 'goldfish', 'cat', 'rabbit', 'cat']\n",
    "print(pets)\n",
    "while 'cat' in pets:\n",
    "    pets.remove('cat')\n",
    "print(pets)"
   ]
  },
  {
   "cell_type": "code",
   "execution_count": 3,
   "metadata": {},
   "outputs": [
    {
     "name": "stdout",
     "output_type": "stream",
     "text": [
      "['dog', 'cat', 'dog', 'goldfish', 'cat', 'rabbit', 'cat']\n"
     ]
    },
    {
     "ename": "TypeError",
     "evalue": "'str' object cannot be interpreted as an integer",
     "output_type": "error",
     "traceback": [
      "\u001b[1;31m---------------------------------------------------------------------------\u001b[0m",
      "\u001b[1;31mTypeError\u001b[0m                                 Traceback (most recent call last)",
      "\u001b[1;32m<ipython-input-3-7b4d1600d6c9>\u001b[0m in \u001b[0;36m<module>\u001b[1;34m\u001b[0m\n\u001b[0;32m      2\u001b[0m \u001b[0mprint\u001b[0m\u001b[1;33m(\u001b[0m\u001b[0mpets\u001b[0m\u001b[1;33m)\u001b[0m\u001b[1;33m\u001b[0m\u001b[1;33m\u001b[0m\u001b[0m\n\u001b[0;32m      3\u001b[0m \u001b[1;32mwhile\u001b[0m \u001b[1;34m'cat'\u001b[0m \u001b[1;32min\u001b[0m \u001b[0mpets\u001b[0m\u001b[1;33m:\u001b[0m\u001b[1;33m\u001b[0m\u001b[1;33m\u001b[0m\u001b[0m\n\u001b[1;32m----> 4\u001b[1;33m     \u001b[0mali\u001b[0m\u001b[1;33m=\u001b[0m\u001b[0mpets\u001b[0m\u001b[1;33m.\u001b[0m\u001b[0mpop\u001b[0m\u001b[1;33m(\u001b[0m\u001b[1;34m'cat'\u001b[0m\u001b[1;33m)\u001b[0m\u001b[1;33m\u001b[0m\u001b[1;33m\u001b[0m\u001b[0m\n\u001b[0m\u001b[0;32m      5\u001b[0m \u001b[0mprint\u001b[0m\u001b[1;33m(\u001b[0m\u001b[0mali\u001b[0m\u001b[1;33m)\u001b[0m\u001b[1;33m\u001b[0m\u001b[1;33m\u001b[0m\u001b[0m\n\u001b[0;32m      6\u001b[0m \u001b[0mprint\u001b[0m\u001b[1;33m(\u001b[0m\u001b[0mpets\u001b[0m\u001b[1;33m)\u001b[0m\u001b[1;33m\u001b[0m\u001b[1;33m\u001b[0m\u001b[0m\n",
      "\u001b[1;31mTypeError\u001b[0m: 'str' object cannot be interpreted as an integer"
     ]
    }
   ],
   "source": [
    "pets = ['dog', 'cat', 'dog', 'goldfish', 'cat', 'rabbit', 'cat']\n",
    "print(pets)\n",
    "while 'cat' in pets:\n",
    "    ali=pets.pop('cat')\n",
    "print(ali)\n",
    "print(pets)"
   ]
  },
  {
   "cell_type": "code",
   "execution_count": 8,
   "metadata": {},
   "outputs": [
    {
     "name": "stdout",
     "output_type": "stream",
     "text": [
      "['cat', 'dog', 'goldfish', 'cat', 'rabbit', 'cat']\n"
     ]
    },
    {
     "ename": "IndexError",
     "evalue": "pop from empty list",
     "output_type": "error",
     "traceback": [
      "\u001b[1;31m---------------------------------------------------------------------------\u001b[0m",
      "\u001b[1;31mIndexError\u001b[0m                                Traceback (most recent call last)",
      "\u001b[1;32m<ipython-input-8-5c1643747719>\u001b[0m in \u001b[0;36m<module>\u001b[1;34m\u001b[0m\n\u001b[0;32m      4\u001b[0m \u001b[0malist\u001b[0m\u001b[1;33m=\u001b[0m\u001b[1;33m[\u001b[0m\u001b[1;33m]\u001b[0m\u001b[1;33m\u001b[0m\u001b[1;33m\u001b[0m\u001b[0m\n\u001b[0;32m      5\u001b[0m \u001b[1;32mwhile\u001b[0m \u001b[0me\u001b[0m\u001b[1;33m:\u001b[0m\u001b[1;33m\u001b[0m\u001b[1;33m\u001b[0m\u001b[0m\n\u001b[1;32m----> 6\u001b[1;33m     \u001b[0mali\u001b[0m\u001b[1;33m=\u001b[0m\u001b[0mpets\u001b[0m\u001b[1;33m.\u001b[0m\u001b[0mpop\u001b[0m\u001b[1;33m(\u001b[0m\u001b[1;33m)\u001b[0m\u001b[1;33m\u001b[0m\u001b[1;33m\u001b[0m\u001b[0m\n\u001b[0m\u001b[0;32m      7\u001b[0m     \u001b[0malist\u001b[0m\u001b[1;33m.\u001b[0m\u001b[0mappend\u001b[0m\u001b[1;33m(\u001b[0m\u001b[0mali\u001b[0m\u001b[1;33m)\u001b[0m\u001b[1;33m\u001b[0m\u001b[1;33m\u001b[0m\u001b[0m\n\u001b[0;32m      8\u001b[0m \u001b[0mprint\u001b[0m\u001b[1;33m(\u001b[0m\u001b[0mali\u001b[0m\u001b[1;33m)\u001b[0m\u001b[1;33m\u001b[0m\u001b[1;33m\u001b[0m\u001b[0m\n",
      "\u001b[1;31mIndexError\u001b[0m: pop from empty list"
     ]
    }
   ],
   "source": [
    "e=True\n",
    "pets = ['cat', 'dog', 'goldfish', 'cat', 'rabbit', 'cat']\n",
    "print(pets)\n",
    "alist=[]\n",
    "while e:\n",
    "    ali=pets.pop()\n",
    "    alist.append(ali)\n",
    "print(ali)\n",
    "print(pets)"
   ]
  },
  {
   "cell_type": "code",
   "execution_count": 9,
   "metadata": {},
   "outputs": [
    {
     "name": "stdout",
     "output_type": "stream",
     "text": [
      "['cat', 'dog', 'goldfish', 'cat', 'rabbit', 'cat']\n",
      "['cat', 'rabbit', 'cat']\n"
     ]
    }
   ],
   "source": [
    "pets = ['cat', 'dog', 'goldfish', 'cat', 'rabbit', 'cat']\n",
    "print(pets)\n",
    "alist=[]\n",
    "for a in pets:\n",
    "    popped=pets.pop()\n",
    "    alist.append(popped)\n",
    "print(alist)"
   ]
  },
  {
   "cell_type": "code",
   "execution_count": 2,
   "metadata": {},
   "outputs": [
    {
     "name": "stdout",
     "output_type": "stream",
     "text": [
      "What is your name sajid\n",
      "What is your fav mango to eatdasahri\n",
      "Is there any more guy wanna eat mango. (yes/No)yes\n",
      "What is your name umar\n",
      "What is your fav mango to eatchonsa\n",
      "Is there any more guy wanna eat mango. (yes/No)yes\n",
      "What is your name ali\n",
      "What is your fav mango to eatlangra\n",
      "Is there any more guy wanna eat mango. (yes/No)no\n",
      "\n",
      "Sajid wants to eat Dasahri.\n",
      "\n",
      "Umar wants to eat Chonsa.\n",
      "\n",
      "Ali wants to eat Langra.\n"
     ]
    }
   ],
   "source": [
    "e=True\n",
    "wanters={}\n",
    "while e:\n",
    "    name=input(\"What is your name \")\n",
    "    flavour=input(\"What is your fav mango to eat\")\n",
    "    wanters[name]=flavour\n",
    "    any_more_guy=input(\"Is there any more guy wanna eat mango. (yes/No)\")\n",
    "    if any_more_guy==\"no\":\n",
    "        e=False\n",
    "for name,flav in wanters.items():\n",
    "    print(f\"\\n{name.title()} wants to eat {flav.title()}.\")"
   ]
  },
  {
   "cell_type": "raw",
   "metadata": {},
   "source": [
    "# 7-8. Deli: Make a list called sandwich_orders and fill it with the names of various\n",
    "sandwiches. Then make an empty list called finished_sandwiches. Loop\n",
    "through the list of sandwich orders and print a message for each order, such\n",
    "as I made your tuna sandwich. As each sandwich is made, move it to the list\n",
    "of finished sandwiches. After all the sandwiches have been made, print a\n",
    "message listing each sandwich that was made."
   ]
  },
  {
   "cell_type": "code",
   "execution_count": 19,
   "metadata": {},
   "outputs": [
    {
     "name": "stdout",
     "output_type": "stream",
     "text": [
      "aa\n",
      "bb\n",
      "cc\n",
      "I made your order ['cc']\n",
      " cc is ready.\n",
      "aa\n",
      "bb\n",
      "I made your order ['cc', 'bb']\n",
      " cc is ready.\n",
      " bb is ready.\n",
      "aa\n",
      "I made your order ['cc', 'bb', 'aa']\n",
      " cc is ready.\n",
      " bb is ready.\n",
      " aa is ready.\n"
     ]
    }
   ],
   "source": [
    "sandwich_orders=[\"aa\",\"bb\",\"cc\"]\n",
    "finished_sandwiches=[]\n",
    "while sandwich_orders:\n",
    "    for a in sandwich_orders:\n",
    "        print(a)\n",
    "    finished_sandwiches.append(sandwich_orders.pop())\n",
    "    print(f\"I made your order {finished_sandwiches}\")\n",
    "    for a in finished_sandwiches:\n",
    "        print(f\" {a} is ready.\")"
   ]
  },
  {
   "cell_type": "code",
   "execution_count": 26,
   "metadata": {},
   "outputs": [
    {
     "name": "stdout",
     "output_type": "stream",
     "text": [
      "aa\n",
      "bb\n",
      "cc\n",
      "I made your order cc\n",
      "aa\n",
      "bb\n",
      "I made your order bb\n",
      "aa\n",
      "I made your order aa\n",
      " cc is ready.\n",
      " bb is ready.\n",
      " aa is ready.\n"
     ]
    }
   ],
   "source": [
    "sandwich_orders=[\"aa\",\"bb\",\"cc\"]\n",
    "finished_sandwiches=[]\n",
    "while sandwich_orders:\n",
    "    for a in sandwich_orders:\n",
    "        print(a)\n",
    "    finished_sandwiches.append(sandwich_orders.pop())\n",
    "    print(f\"I made your order {a}\")\n",
    "for a in finished_sandwiches:\n",
    "    print(f\" {a} is ready.\")\n"
   ]
  },
  {
   "cell_type": "raw",
   "metadata": {},
   "source": [
    "7-10. Dream Vacation: Write a program that polls users about their dream vacation.\n",
    "Write a prompt similar to If you could visit one place in the world, where\n",
    "would you go? Include a block of code that prints the results of the poll."
   ]
  },
  {
   "cell_type": "code",
   "execution_count": 14,
   "metadata": {},
   "outputs": [
    {
     "name": "stdout",
     "output_type": "stream",
     "text": [
      "what is your name? sajid\n",
      "where you wanna go? makkah\n",
      "if any other put yes otherwise no.yes\n",
      "what is your name? umar\n",
      "where you wanna go? madina\n",
      "if any other put yes otherwise no.yes\n",
      "what is your name? riaz\n",
      "where you wanna go? jiddah\n",
      "if any other put yes otherwise no.no\n",
      "\n",
      " Sajid wanna go to Makkah\n",
      "\n",
      " Umar wanna go to Madina\n",
      "\n",
      " Riaz wanna go to Jiddah\n"
     ]
    }
   ],
   "source": [
    "e=True\n",
    "adic={}\n",
    "while e:\n",
    "    name=input(\"what is your name? \")\n",
    "    vacation=input(\"where you wanna go? \")\n",
    "    adic[name]= vacation\n",
    "    other=input(\"if any other put yes otherwise no.\")\n",
    "    if other==\"no\":\n",
    "        e=False\n",
    "for name,vaca in adic.items():\n",
    "    print(f\"\\n {name.title()} wanna go to {vaca.title()}\")"
   ]
  },
  {
   "cell_type": "markdown",
   "metadata": {},
   "source": [
    "# 8  Functions"
   ]
  },
  {
   "cell_type": "code",
   "execution_count": 17,
   "metadata": {},
   "outputs": [],
   "source": [
    "def chapter_8():\n",
    "    \"\"\"This is a docstring\"\"\"\n",
    "    print(\"I'm learning functions in this chapter.\")"
   ]
  },
  {
   "cell_type": "code",
   "execution_count": 19,
   "metadata": {},
   "outputs": [
    {
     "name": "stdout",
     "output_type": "stream",
     "text": [
      "I'm learning functions in this chapter.\n"
     ]
    }
   ],
   "source": [
    "chapter_8()"
   ]
  },
  {
   "cell_type": "code",
   "execution_count": 21,
   "metadata": {},
   "outputs": [],
   "source": [
    "def fav_book(name_of_book):\n",
    "     print(f\"{name_of_book} is my favourite book.\")"
   ]
  },
  {
   "cell_type": "markdown",
   "metadata": {},
   "source": [
    "8-2. Favorite Book"
   ]
  },
  {
   "cell_type": "code",
   "execution_count": 23,
   "metadata": {},
   "outputs": [
    {
     "name": "stdout",
     "output_type": "stream",
     "text": [
      "Quran is my favourite book.\n"
     ]
    }
   ],
   "source": [
    "fav_book(\"Quran\")"
   ]
  },
  {
   "cell_type": "markdown",
   "metadata": {},
   "source": [
    "8-3. T-Shirt"
   ]
  },
  {
   "cell_type": "code",
   "execution_count": 35,
   "metadata": {},
   "outputs": [],
   "source": [
    "def make_shirt(size,message=\"This is a T-shirt\"):\n",
    "    print(f\"The size of the shirt is {size} and print on it {message}.\")"
   ]
  },
  {
   "cell_type": "code",
   "execution_count": 36,
   "metadata": {},
   "outputs": [
    {
     "name": "stdout",
     "output_type": "stream",
     "text": [
      "The size of the shirt is small and print on it This is a T-shirt.\n"
     ]
    }
   ],
   "source": [
    "make_shirt(\"small\")"
   ]
  },
  {
   "cell_type": "code",
   "execution_count": 37,
   "metadata": {},
   "outputs": [
    {
     "name": "stdout",
     "output_type": "stream",
     "text": [
      "The size of the shirt is medium and print on it Hiiii.\n"
     ]
    }
   ],
   "source": [
    "make_shirt(message=\"Hiiii\",size=\"medium\")"
   ]
  },
  {
   "cell_type": "code",
   "execution_count": 38,
   "metadata": {},
   "outputs": [],
   "source": [
    "def make_shirt(size,message=\"I love python.\"):\n",
    "    print(f\"The size of the shirt is {size} and print on it {message}.\")"
   ]
  },
  {
   "cell_type": "code",
   "execution_count": 39,
   "metadata": {},
   "outputs": [
    {
     "name": "stdout",
     "output_type": "stream",
     "text": [
      "The size of the shirt is large and print on it I love python..\n"
     ]
    }
   ],
   "source": [
    "make_shirt(\"large\")"
   ]
  },
  {
   "cell_type": "code",
   "execution_count": 40,
   "metadata": {},
   "outputs": [
    {
     "name": "stdout",
     "output_type": "stream",
     "text": [
      "The size of the shirt is medium and print on it I love python..\n"
     ]
    }
   ],
   "source": [
    "make_shirt(\"medium\")"
   ]
  },
  {
   "cell_type": "code",
   "execution_count": 41,
   "metadata": {},
   "outputs": [],
   "source": [
    "def make_shirt(size,message=\"I love python Django.\"):\n",
    "    print(f\"The size of the shirt is {size} and print on it {message}.\")"
   ]
  },
  {
   "cell_type": "code",
   "execution_count": 43,
   "metadata": {},
   "outputs": [
    {
     "name": "stdout",
     "output_type": "stream",
     "text": [
      "The size of the shirt is Extra large and print on it I love python Django..\n"
     ]
    }
   ],
   "source": [
    "make_shirt(\"Extra large\")"
   ]
  },
  {
   "cell_type": "code",
   "execution_count": 33,
   "metadata": {},
   "outputs": [],
   "source": [
    "def get_name(first_name,middle_name,last_name):\n",
    "    full_name=print(f\"{first_name} {middle_name} {last_name}\")\n",
    "    return full_name"
   ]
  },
  {
   "cell_type": "code",
   "execution_count": 34,
   "metadata": {},
   "outputs": [
    {
     "name": "stdout",
     "output_type": "stream",
     "text": [
      "sir Nasir Hussain\n"
     ]
    }
   ],
   "source": [
    "T1=get_name(\"sir\",\"Nasir\",\"Hussain\")"
   ]
  },
  {
   "cell_type": "code",
   "execution_count": 35,
   "metadata": {},
   "outputs": [],
   "source": [
    "def get_name(first_name,last_name,middle_name=\"\"):\n",
    "    full_name=print(f\"{first_name} {middle_name} {last_name}\")\n",
    "    return full_name"
   ]
  },
  {
   "cell_type": "code",
   "execution_count": 37,
   "metadata": {},
   "outputs": [
    {
     "ename": "TypeError",
     "evalue": "get_name() missing 1 required positional argument: 'last_name'",
     "output_type": "error",
     "traceback": [
      "\u001b[1;31m---------------------------------------------------------------------------\u001b[0m",
      "\u001b[1;31mTypeError\u001b[0m                                 Traceback (most recent call last)",
      "\u001b[1;32m<ipython-input-37-0482d4cad5a1>\u001b[0m in \u001b[0;36m<module>\u001b[1;34m\u001b[0m\n\u001b[1;32m----> 1\u001b[1;33m \u001b[0mT1\u001b[0m\u001b[1;33m=\u001b[0m\u001b[0mget_name\u001b[0m\u001b[1;33m(\u001b[0m\u001b[1;34m\"sir\"\u001b[0m\u001b[1;33m,\u001b[0m\u001b[0mmiddle_name\u001b[0m\u001b[1;33m=\u001b[0m\u001b[1;34m\"Nasir\"\u001b[0m\u001b[1;33m)\u001b[0m\u001b[1;33m\u001b[0m\u001b[1;33m\u001b[0m\u001b[0m\n\u001b[0m",
      "\u001b[1;31mTypeError\u001b[0m: get_name() missing 1 required positional argument: 'last_name'"
     ]
    }
   ],
   "source": [
    "T1=get_name(\"sir\",middle_name=\"Nasir\")"
   ]
  },
  {
   "cell_type": "markdown",
   "metadata": {},
   "source": [
    "while loop on a function"
   ]
  },
  {
   "cell_type": "code",
   "execution_count": null,
   "metadata": {},
   "outputs": [],
   "source": [
    "def get_name(fname,lname):\n",
    "    name= f\"{fname} {lname}\"\n",
    "    while True:\n",
    "        print(\"Enter your first name\")\n",
    "        fname=input(\"\")\n",
    "        if fname==\"q\":\n",
    "            break\n",
    "        print(\"Enter your last name\")\n",
    "        lname=input(\"\")\n",
    "        if lname==\"q\":\n",
    "            break\n",
    "    print(f\"{fname} {lname}\")\n",
    "    return name\n"
   ]
  },
  {
   "cell_type": "code",
   "execution_count": 7,
   "metadata": {},
   "outputs": [
    {
     "name": "stdout",
     "output_type": "stream",
     "text": [
      "Enter your first name\n",
      "trtrt\n",
      "Enter your last name\n",
      "rtrtrt\n",
      "Enter your first name\n",
      "tertt\n",
      "Enter your last name\n",
      "trtrt\n",
      "Enter your first name\n",
      "q\n",
      "q trtrt\n"
     ]
    },
    {
     "data": {
      "text/plain": [
       "'ali akmal'"
      ]
     },
     "execution_count": 7,
     "metadata": {},
     "output_type": "execute_result"
    }
   ],
   "source": [
    "get_name(\"ali\",\"akmal\")"
   ]
  },
  {
   "cell_type": "code",
   "execution_count": 1,
   "metadata": {},
   "outputs": [
    {
     "name": "stdout",
     "output_type": "stream",
     "text": [
      "\n",
      "Please tell me your name:\n",
      "First name: sajid\n",
      "Last name: Munawar\n",
      "\n",
      "Hello, Sajid Munawar!\n",
      "\n",
      "Please tell me your name:\n",
      "First name: q\n"
     ]
    }
   ],
   "source": [
    "def get_formatted_name(first_name, last_name):\n",
    "    \"\"\"Return a full name, neatly formatted.\"\"\"\n",
    "    full_name = f\"{first_name} {last_name}\"\n",
    "    return full_name.title()\n",
    "while True:\n",
    "    print(\"\\nPlease tell me your name:\")\n",
    "    f_name = input(\"First name: \")\n",
    "    if f_name == 'q':\n",
    "        break\n",
    "    l_name = input(\"Last name: \")\n",
    "    if l_name == 'q':\n",
    "        break\n",
    "    formatted_name = get_formatted_name(f_name, l_name)\n",
    "    print(f\"\\nHello, {formatted_name}!\")"
   ]
  },
  {
   "cell_type": "code",
   "execution_count": 3,
   "metadata": {},
   "outputs": [],
   "source": [
    "def get_name():\n",
    "    while True:\n",
    "        print(\"Enter your first name\")\n",
    "        fname=input(\"\")\n",
    "        if fname==\"q\":\n",
    "            break\n",
    "        print(\"Enter your last name\")\n",
    "        lname=input(\"\")\n",
    "        if lname==\"q\":\n",
    "            break\n",
    "        name= f\"{fname} {lname}\"\n",
    "    print(f\"{fname} {lname}\")\n",
    "    return name\n"
   ]
  },
  {
   "cell_type": "code",
   "execution_count": 5,
   "metadata": {},
   "outputs": [
    {
     "name": "stdout",
     "output_type": "stream",
     "text": [
      "Enter your first name\n",
      "Sajid\n",
      "Enter your last name\n",
      "Munawar\n",
      "Enter your first name\n",
      "q\n",
      "q Munawar\n"
     ]
    },
    {
     "data": {
      "text/plain": [
       "'Sajid Munawar'"
      ]
     },
     "execution_count": 5,
     "metadata": {},
     "output_type": "execute_result"
    }
   ],
   "source": [
    "get_name()"
   ]
  },
  {
   "cell_type": "markdown",
   "metadata": {},
   "source": [
    "8-6. City Names"
   ]
  },
  {
   "cell_type": "code",
   "execution_count": 4,
   "metadata": {},
   "outputs": [],
   "source": [
    "def your_city(city,province,country):\n",
    "    city_name= f\" The {city} of {province} is in {country}\"\n",
    "    return city_name"
   ]
  },
  {
   "cell_type": "code",
   "execution_count": 6,
   "metadata": {},
   "outputs": [
    {
     "data": {
      "text/plain": [
       "' The Bahawalpur of Punjab is in Pakistan'"
      ]
     },
     "execution_count": 6,
     "metadata": {},
     "output_type": "execute_result"
    }
   ],
   "source": [
    "your_city(\"Bahawalpur\",\"Punjab\",\"Pakistan\")"
   ]
  },
  {
   "cell_type": "markdown",
   "metadata": {},
   "source": [
    "8-7. Album"
   ]
  },
  {
   "cell_type": "code",
   "execution_count": 34,
   "metadata": {},
   "outputs": [],
   "source": [
    "def make_album(first_singer,first_album,second_singer,second_album,third_singer,third_album):\n",
    "        a={first_singer:first_album}\n",
    "        b={second_singer:second_album}        \n",
    "        c={third_singer:third_album}\n",
    "        all_three=print(f\"\\n{a}\\n{b}\\n{c}\")\n",
    "        return all_three"
   ]
  },
  {
   "cell_type": "code",
   "execution_count": 35,
   "metadata": {},
   "outputs": [
    {
     "name": "stdout",
     "output_type": "stream",
     "text": [
      "\n",
      "{'Atif': 'Rang'}\n",
      "{'aima': 'udan'}\n",
      "{'sono': 'old'}\n"
     ]
    }
   ],
   "source": [
    "make_album(\"Atif\",\"Rang\",\"aima\",\"udan\",\"sono\",\"old\")"
   ]
  },
  {
   "cell_type": "code",
   "execution_count": 3,
   "metadata": {},
   "outputs": [],
   "source": [
    "def make_album(first_singer,first_album,second_singer,second_album,third_singer,third_album,more=None):\n",
    "        a={first_singer:[first_album,more]}\n",
    "        b={second_singer:[second_album,more]}        \n",
    "        c={third_singer:[third_album,more]}\n",
    "        all_three=print(f\"\\n{a},\\n{b},\\n{c}\")\n",
    "        return all_three"
   ]
  },
  {
   "cell_type": "code",
   "execution_count": 5,
   "metadata": {},
   "outputs": [
    {
     "name": "stdout",
     "output_type": "stream",
     "text": [
      "\n",
      "{'Atif': ['Rang', 27]},\n",
      "{'aima': ['udan', 27]},\n",
      "{'sono': ['old', 27]}\n"
     ]
    }
   ],
   "source": [
    "make_album(\"Atif\",\"Rang\",\"aima\",\"udan\",\"sono\",\"old\",more=27)"
   ]
  },
  {
   "cell_type": "markdown",
   "metadata": {},
   "source": [
    "8-8. User Albums"
   ]
  },
  {
   "cell_type": "code",
   "execution_count": 39,
   "metadata": {},
   "outputs": [],
   "source": [
    "def make_album(first_singer,first_album,second_singer,second_album,third_singer,third_album):\n",
    "        a=input({first_singer:first_album})\n",
    "        b=input({second_singer:second_album})        \n",
    "        c=input({third_singer:third_album})\n",
    "        all_three=print(f\"\\n{a}\\n{b}\\n{c}\")\n",
    "        return all_three"
   ]
  },
  {
   "cell_type": "code",
   "execution_count": 40,
   "metadata": {},
   "outputs": [
    {
     "name": "stdout",
     "output_type": "stream",
     "text": [
      "{'Atif': 'Rang'}ali, akbar\n",
      "{'aima': 'udan'}umaar: shahyaz\n",
      "{'sono': 'old'}ali: hamza\n",
      "\n",
      "ali, akbar\n",
      "umaar: shahyaz\n",
      "ali: hamza\n"
     ]
    }
   ],
   "source": [
    "make_album(\"Atif\",\"Rang\",\"aima\",\"udan\",\"sono\",\"old\")"
   ]
  },
  {
   "cell_type": "code",
   "execution_count": 1,
   "metadata": {},
   "outputs": [
    {
     "name": "stdout",
     "output_type": "stream",
     "text": [
      "Hello, Hannah!\n",
      "Hello, Ty!\n",
      "Hello, Margot!\n"
     ]
    }
   ],
   "source": [
    "def greet_users(names):\n",
    "    \"\"\"Print a simple greeting to each user in the list.\"\"\"\n",
    "    for name in names:\n",
    "        msg = f\"Hello, {name.title()}!\"\n",
    "        print(msg)\n",
    "usernames = ['hannah', 'ty', 'margot']\n",
    "greet_users(usernames)"
   ]
  },
  {
   "cell_type": "code",
   "execution_count": 11,
   "metadata": {},
   "outputs": [
    {
     "name": "stdout",
     "output_type": "stream",
     "text": [
      "buying model : accessiories \n",
      "buying model : charger \n",
      "buying model : cell \n",
      "we have bought  accessiories\n",
      "we have bought  charger\n",
      "we have bought  cell\n"
     ]
    }
   ],
   "source": [
    "to_buy=[\"cell\",\"charger\",\"accessiories\"]\n",
    "bought=[]\n",
    "while to_buy:\n",
    "    buying=to_buy.pop()\n",
    "    print(f\"buying model : {buying} \")\n",
    "    bought.append(buying)\n",
    "for a in bought:\n",
    "    print(f\"we have bought  {a}\")"
   ]
  },
  {
   "cell_type": "code",
   "execution_count": 13,
   "metadata": {},
   "outputs": [],
   "source": [
    "def buying(to_buy,bought):\n",
    "    while to_buy:\n",
    "        buying=to_buy.pop()\n",
    "        print(f\"buying model : {buying} \")\n",
    "        bought.append(buying)"
   ]
  },
  {
   "cell_type": "code",
   "execution_count": 15,
   "metadata": {},
   "outputs": [],
   "source": [
    "def show_bought(bought):\n",
    "    for a in bought:\n",
    "        print(f\"we have bought  {a}\")"
   ]
  },
  {
   "cell_type": "code",
   "execution_count": 16,
   "metadata": {},
   "outputs": [
    {
     "name": "stdout",
     "output_type": "stream",
     "text": [
      "buying model : accessiories \n",
      "buying model : charger \n",
      "buying model : cell \n",
      "we have bought  accessiories\n",
      "we have bought  charger\n",
      "we have bought  cell\n"
     ]
    }
   ],
   "source": [
    "to_buy=[\"cell\",\"charger\",\"accessiories\"]\n",
    "bought=[]\n",
    "buying(to_buy,bought)\n",
    "show_bought(bought)"
   ]
  },
  {
   "cell_type": "code",
   "execution_count": 17,
   "metadata": {},
   "outputs": [
    {
     "data": {
      "text/plain": [
       "[]"
      ]
     },
     "execution_count": 17,
     "metadata": {},
     "output_type": "execute_result"
    }
   ],
   "source": [
    "to_buy"
   ]
  },
  {
   "cell_type": "markdown",
   "metadata": {},
   "source": [
    " Through slicing , we did not use the list, just use a copy of list ,, see as below"
   ]
  },
  {
   "cell_type": "code",
   "execution_count": 20,
   "metadata": {},
   "outputs": [
    {
     "name": "stdout",
     "output_type": "stream",
     "text": [
      "buying model : charger \n",
      "buying model : cell \n",
      "we have bought  charger\n",
      "we have bought  cell\n"
     ]
    }
   ],
   "source": [
    "to_buy=[\"cell\",\"charger\",\"accessiories\"]\n",
    "bought=[]\n",
    "buying(to_buy[:],bought)\n",
    "show_bought(bought)"
   ]
  },
  {
   "cell_type": "code",
   "execution_count": 21,
   "metadata": {},
   "outputs": [
    {
     "data": {
      "text/plain": [
       "['cell', 'charger', 'accessiories']"
      ]
     },
     "execution_count": 21,
     "metadata": {},
     "output_type": "execute_result"
    }
   ],
   "source": [
    "to_buy"
   ]
  },
  {
   "cell_type": "markdown",
   "metadata": {},
   "source": [
    "8-9. Messages"
   ]
  },
  {
   "cell_type": "code",
   "execution_count": 50,
   "metadata": {},
   "outputs": [],
   "source": [
    "messages=[\"aa\",\"bb\",\"cc\"]\n",
    "def show_messages(msg):\n",
    "    for a in msg:\n",
    "        print(f\"This messagr has been sent \\n {a}\" )"
   ]
  },
  {
   "cell_type": "code",
   "execution_count": 51,
   "metadata": {},
   "outputs": [
    {
     "name": "stdout",
     "output_type": "stream",
     "text": [
      "This messagr has been sent \n",
      " aa\n",
      "This messagr has been sent \n",
      " bb\n",
      "This messagr has been sent \n",
      " cc\n"
     ]
    }
   ],
   "source": [
    "messages=[\"aa\",\"bb\",\"cc\"]\n",
    "show_messages(messages)"
   ]
  },
  {
   "cell_type": "markdown",
   "metadata": {},
   "source": [
    "8-10. Sending Messages"
   ]
  },
  {
   "cell_type": "code",
   "execution_count": 52,
   "metadata": {},
   "outputs": [],
   "source": [
    "def sending(msg,sended):\n",
    "    while msg:\n",
    "        sending=msg.pop()\n",
    "        print(f\"we are sending : {sending}\")\n",
    "        sended.append(sending)\n",
    "        "
   ]
  },
  {
   "cell_type": "code",
   "execution_count": 67,
   "metadata": {},
   "outputs": [
    {
     "name": "stdout",
     "output_type": "stream",
     "text": [
      "we are sending : zz\n",
      "we are sending : yy\n",
      "we are sending : xx\n",
      "This messagr has been sent \n",
      " xx\n",
      "This messagr has been sent \n",
      " yy\n",
      "This messagr has been sent \n",
      " zz\n"
     ]
    }
   ],
   "source": [
    "msg_list=[\"xx\",\"yy\",\"zz\"]\n",
    "sended_list=[]\n",
    "sending(msg_list[:],sended_list)\n",
    "show_messages(msg_list)"
   ]
  },
  {
   "cell_type": "markdown",
   "metadata": {},
   "source": [
    "8-11. Archived Messages"
   ]
  },
  {
   "cell_type": "code",
   "execution_count": 68,
   "metadata": {},
   "outputs": [
    {
     "name": "stdout",
     "output_type": "stream",
     "text": [
      "['xx', 'yy', 'zz']\n",
      "['zz', 'yy', 'xx']\n"
     ]
    }
   ],
   "source": [
    "print(msg_list)\n",
    "print(sended_list)"
   ]
  },
  {
   "cell_type": "code",
   "execution_count": 69,
   "metadata": {},
   "outputs": [
    {
     "name": "stdout",
     "output_type": "stream",
     "text": [
      "{'location': 'princeton', 'field': 'physics', 'first_name': 'albert', 'last_name': 'einstein'}\n"
     ]
    }
   ],
   "source": [
    "def build_profile(first, last, **user_info):\n",
    "    \"\"\"Build a dictionary containing everything we know about a user.\"\"\"\n",
    "    user_info['first_name'] = first\n",
    "    user_info['last_name'] = last\n",
    "    return user_info\n",
    "user_profile = build_profile('albert', 'einstein',\n",
    "location='princeton',\n",
    "field='physics')\n",
    "print(user_profile)"
   ]
  },
  {
   "cell_type": "markdown",
   "metadata": {},
   "source": [
    "8-12. Sandwiches"
   ]
  },
  {
   "cell_type": "code",
   "execution_count": 76,
   "metadata": {},
   "outputs": [],
   "source": [
    "def make_sandwitch(*items_on_sandwitch):\n",
    "    b=items_on_sandwitch\n",
    "    for c in b:\n",
    "        print(c)\n",
    "    print(f\"Therer should be {items_on_sandwitch} on burger\")"
   ]
  },
  {
   "cell_type": "code",
   "execution_count": 77,
   "metadata": {},
   "outputs": [
    {
     "name": "stdout",
     "output_type": "stream",
     "text": [
      "mushrooms\n",
      "green peppers\n",
      "extra cheese\n",
      "Therer should be ('mushrooms', 'green peppers', 'extra cheese') on burger\n"
     ]
    }
   ],
   "source": [
    "make_sandwitch('mushrooms', 'green peppers', \"extra cheese\")"
   ]
  },
  {
   "cell_type": "markdown",
   "metadata": {},
   "source": [
    "8-13. User Profile"
   ]
  },
  {
   "cell_type": "code",
   "execution_count": 78,
   "metadata": {},
   "outputs": [],
   "source": [
    "def build_profile(first,last,**other_info):\n",
    "    other_info[\"first_name\"]=first\n",
    "    other_info[\"last_name\"]=last\n",
    "    return other_info\n",
    "    "
   ]
  },
  {
   "cell_type": "code",
   "execution_count": 80,
   "metadata": {},
   "outputs": [
    {
     "data": {
      "text/plain": [
       "{'email': 'sajid92500@gmail.com',\n",
       " 'location': 'Yazman',\n",
       " 'first_name': 'Sajid',\n",
       " 'last_name': 'Munawar'}"
      ]
     },
     "execution_count": 80,
     "metadata": {},
     "output_type": "execute_result"
    }
   ],
   "source": [
    "build_profile(\"Sajid\",\"Munawar\",email=\"sajid92500@gmail.com\",location=\"Yazman\")"
   ]
  },
  {
   "cell_type": "code",
   "execution_count": 92,
   "metadata": {},
   "outputs": [],
   "source": [
    "def make_car(manufacturer,model,**others):\n",
    "    others[\"manufacturer\"]=manufacturer\n",
    "    others[\"model\"]=model\n",
    "    for b,c in others.items():\n",
    "        print(b,c)\n",
    "    return others"
   ]
  },
  {
   "cell_type": "code",
   "execution_count": 93,
   "metadata": {},
   "outputs": [
    {
     "name": "stdout",
     "output_type": "stream",
     "text": [
      "color blue\n",
      "tow_package True\n",
      "manufacturer subaru\n",
      "model outback\n"
     ]
    }
   ],
   "source": [
    "car = make_car('subaru', 'outback', color='blue', tow_package=True)"
   ]
  },
  {
   "cell_type": "code",
   "execution_count": 94,
   "metadata": {},
   "outputs": [
    {
     "name": "stdout",
     "output_type": "stream",
     "text": [
      "{'color': 'blue', 'tow_package': True, 'manufacturer': 'subaru', 'model': 'outback'}\n"
     ]
    }
   ],
   "source": [
    "print(car)"
   ]
  },
  {
   "cell_type": "markdown",
   "metadata": {},
   "source": [
    "# Storing Your Functions in Modules"
   ]
  },
  {
   "cell_type": "code",
   "execution_count": 6,
   "metadata": {},
   "outputs": [],
   "source": [
    "import pizza"
   ]
  },
  {
   "cell_type": "code",
   "execution_count": 7,
   "metadata": {},
   "outputs": [
    {
     "name": "stdout",
     "output_type": "stream",
     "text": [
      "\n",
      "Making a 16-inch pizza with the following toppings:\n",
      "- pepperoni\n",
      "\n",
      "Making a 12-inch pizza with the following toppings:\n",
      "- mushrooms\n",
      "- green peppers\n",
      "- extra cheese\n"
     ]
    }
   ],
   "source": [
    "pizza.make_pizza(16, 'pepperoni')\n",
    "pizza.make_pizza(12, 'mushrooms', 'green peppers', 'extra cheese')"
   ]
  },
  {
   "cell_type": "markdown",
   "metadata": {},
   "source": [
    "# some methods of modules"
   ]
  },
  {
   "cell_type": "markdown",
   "metadata": {},
   "source": [
    "Importing an Entire Module"
   ]
  },
  {
   "cell_type": "raw",
   "metadata": {},
   "source": [
    "module_name.function_name()"
   ]
  },
  {
   "cell_type": "markdown",
   "metadata": {},
   "source": [
    "Importing Specific Functions"
   ]
  },
  {
   "cell_type": "raw",
   "metadata": {},
   "source": [
    "from module_name import function_name"
   ]
  },
  {
   "cell_type": "markdown",
   "metadata": {},
   "source": [
    "You can import as many functions as you want from a module"
   ]
  },
  {
   "cell_type": "raw",
   "metadata": {},
   "source": [
    "from module_name import function_0, function_1, function_2"
   ]
  },
  {
   "cell_type": "markdown",
   "metadata": {},
   "source": [
    "Using as to Give a Function an Alias"
   ]
  },
  {
   "cell_type": "raw",
   "metadata": {},
   "source": [
    "from module_name import function_name as fn"
   ]
  },
  {
   "cell_type": "markdown",
   "metadata": {},
   "source": [
    "Using as to Give a Module an Alias"
   ]
  },
  {
   "cell_type": "raw",
   "metadata": {},
   "source": [
    "import module_name as mn"
   ]
  },
  {
   "cell_type": "markdown",
   "metadata": {},
   "source": [
    "Importing All Functions in a Module"
   ]
  },
  {
   "cell_type": "raw",
   "metadata": {},
   "source": [
    "from module_name import *"
   ]
  },
  {
   "cell_type": "markdown",
   "metadata": {},
   "source": [
    "8-15. Printing Models"
   ]
  },
  {
   "cell_type": "code",
   "execution_count": null,
   "metadata": {},
   "outputs": [],
   "source": [
    "import printing_modules"
   ]
  },
  {
   "cell_type": "markdown",
   "metadata": {},
   "source": [
    "8-16. Imports"
   ]
  },
  {
   "cell_type": "code",
   "execution_count": 3,
   "metadata": {},
   "outputs": [],
   "source": [
    "# import module_name\n",
    "import add_operator"
   ]
  },
  {
   "cell_type": "code",
   "execution_count": 11,
   "metadata": {},
   "outputs": [
    {
     "name": "stdout",
     "output_type": "stream",
     "text": [
      "8\n",
      "8\n"
     ]
    },
    {
     "data": {
      "text/plain": [
       "16"
      ]
     },
     "execution_count": 11,
     "metadata": {},
     "output_type": "execute_result"
    }
   ],
   "source": [
    "# from module_name import function\n",
    "from add_operator import addition\n",
    "addition()"
   ]
  },
  {
   "cell_type": "code",
   "execution_count": 10,
   "metadata": {},
   "outputs": [
    {
     "name": "stdout",
     "output_type": "stream",
     "text": [
      "6\n",
      "7\n"
     ]
    },
    {
     "data": {
      "text/plain": [
       "13"
      ]
     },
     "execution_count": 10,
     "metadata": {},
     "output_type": "execute_result"
    }
   ],
   "source": [
    "# from module_name import function_name as fn\n",
    "from add_operator import addition as add\n",
    "add()"
   ]
  },
  {
   "cell_type": "code",
   "execution_count": 7,
   "metadata": {},
   "outputs": [],
   "source": [
    "# import module_name as mn\n",
    "import add_operator as ao"
   ]
  },
  {
   "cell_type": "code",
   "execution_count": 13,
   "metadata": {},
   "outputs": [
    {
     "name": "stdout",
     "output_type": "stream",
     "text": [
      "8\n",
      "9\n"
     ]
    },
    {
     "data": {
      "text/plain": [
       "17"
      ]
     },
     "execution_count": 13,
     "metadata": {},
     "output_type": "execute_result"
    }
   ],
   "source": [
    "ao.addition()"
   ]
  },
  {
   "cell_type": "code",
   "execution_count": 14,
   "metadata": {},
   "outputs": [],
   "source": [
    "# from module_name import *\n",
    "from add_operator import *"
   ]
  },
  {
   "cell_type": "code",
   "execution_count": 15,
   "metadata": {},
   "outputs": [
    {
     "name": "stdout",
     "output_type": "stream",
     "text": [
      "4\n",
      "5\n"
     ]
    },
    {
     "data": {
      "text/plain": [
       "9"
      ]
     },
     "execution_count": 15,
     "metadata": {},
     "output_type": "execute_result"
    }
   ],
   "source": [
    "addition()"
   ]
  }
 ],
 "metadata": {
  "kernelspec": {
   "display_name": "Python 3",
   "language": "python",
   "name": "python3"
  },
  "language_info": {
   "codemirror_mode": {
    "name": "ipython",
    "version": 3
   },
   "file_extension": ".py",
   "mimetype": "text/x-python",
   "name": "python",
   "nbconvert_exporter": "python",
   "pygments_lexer": "ipython3",
   "version": "3.7.6"
  }
 },
 "nbformat": 4,
 "nbformat_minor": 4
}
